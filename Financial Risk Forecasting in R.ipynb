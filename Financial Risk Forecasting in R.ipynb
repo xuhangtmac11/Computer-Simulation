{
 "cells": [
  {
   "cell_type": "markdown",
   "metadata": {},
   "source": [
    "# Introduction\n",
    "\n",
    "This notebook is an implementation of Dr. Jón Daníelsson's _Financial Risk Forecasting_ (Wiley, 2011) in R 3.4.3, with annotations and introductory examples. The introductory examples (Appendix) are similar to Appendix B in the original book.\n",
    "\n",
    "Bullet point numbers correspond to the R/MATLAB Listing numbers in the original book, referred to henceforth as _FRF_.\n",
    "\n",
    "More details can be found at the book website: https://www.financialriskforecasting.com/\n",
    "\n",
    "Last updated: June 2018"
   ]
  },
  {
   "cell_type": "markdown",
   "metadata": {},
   "source": [
    "Copyright 2011, 2016, 2018 Jon Danielsson. This code is free software: you can redistribute it and/or modify it under the terms of the GNU General Public License as published by the Free Software Foundation, either version 3 of the License, or (at your option) any later version. This code is distributed in the hope that it will be useful, but WITHOUT ANY WARRANTY; without even the implied warranty of MERCHANTABILITY or FITNESS FOR A PARTICULAR PURPOSE. See the GNU General Public License for more details. The GNU General Public License is available at: https://www.gnu.org/licenses/."
   ]
  },
  {
   "cell_type": "markdown",
   "metadata": {},
   "source": [
    "# Appendix: An Introduction to R\n",
    "\n",
    "Created in R 3.4.3 (June 2018)\n",
    "\n",
    "-  R.1: Entering and Printing Data\n",
    "-  R.2: Vectors, Matrices and Sequences\n",
    "-  R.3: Importing Data (to be updated)\n",
    "-  R.4: Basic Summary Statistics\n",
    "-  R.5: Calculating Moments\n",
    "-  R.6: Basic Matrix Operations\n",
    "-  R.7: Statistical Distributions\n",
    "-  R.8: Statistical Tests\n",
    "-  R.9: Time Series\n",
    "-  R.10: Loops and Functions\n",
    "-  R.11: Basic Graphs\n",
    "-  R.12: Miscellaneous Useful Functions"
   ]
  },
  {
   "cell_type": "code",
   "execution_count": 1,
   "metadata": {},
   "outputs": [
    {
     "name": "stdout",
     "output_type": "stream",
     "text": [
      "[1] 10\n"
     ]
    }
   ],
   "source": [
    "# Entering and Printing Data in R\n",
    "# Listing R.1\n",
    "# Last updated June 2018\n",
    "#\n",
    "#\n",
    "\n",
    "x = 10             # assign x the value 10\n",
    "print(x)           # print x"
   ]
  },
  {
   "cell_type": "code",
   "execution_count": 2,
   "metadata": {},
   "outputs": [
    {
     "name": "stdout",
     "output_type": "stream",
     "text": [
      "[1] 1 3 5 7 9\n",
      "[1] 5\n",
      "NULL\n",
      "[1] 5\n",
      "[1] 2 3\n",
      "     [,1] [,2] [,3]\n",
      "[1,]    1    1    1\n",
      "[2,]    2    2    2\n",
      "[3,]    3    3    3\n",
      "[4,]    1    1    1\n",
      "[5,]    2    2    2\n",
      "[6,]    3    3    3\n",
      " [1]  1  2  3  4  5  6  7  8  9 10\n"
     ]
    }
   ],
   "source": [
    "# Vectors, Matrices and Sequences in R\n",
    "# Listing R.2\n",
    "# Last updated June 2018\n",
    "#\n",
    "#\n",
    "\n",
    "y = c(1,3,5,7,9)          # create vector using c()\n",
    "\n",
    "print(y)\n",
    "\n",
    "print(y[3])               # calling 3rd element (R indices start at 1)\n",
    "\n",
    "print(dim(y))             # gives NULL since y is a vector, not a matrix\n",
    "\n",
    "print(length(y))          # as expected, y has length 5\n",
    "\n",
    "v = matrix(nrow=2,ncol=3) # fill a 2 x 3 matrix with NaN values (default)\n",
    "\n",
    "print(dim(v))             # as expected, v is size (2,3)\n",
    "\n",
    "w = matrix(c(1,2,3),nrow=6,ncol=3) # repeats matrix twice by rows, thrice by columns\n",
    "\n",
    "print(w)\n",
    "\n",
    "s = 1:10                  # s is a list of integers from 1 to 10 inclusive\n",
    "\n",
    "print(s)                  "
   ]
  },
  {
   "cell_type": "code",
   "execution_count": 3,
   "metadata": {},
   "outputs": [],
   "source": [
    "# Importing Data in R\n",
    "# Listing R.3\n",
    "# Last updated June 2018\n",
    "#\n",
    "#\n",
    "\n",
    "## There are many data sources for financial data, for instance\n",
    "## Yahoo Finance, AlphaVantage and Quandl. However, some of the\n",
    "## free data sources have numerous issues with accuracy and\n",
    "## handling of missing data, so only CSV importing is shown here.\n",
    "##\n",
    "## For csv data, one can use read.csv to read it\n",
    "##\n",
    "## Example:\n",
    "## data = read.csv('Ch1aprices.csv', header=TRUE, sep=',')\n",
    "## one can use the zoo() function from the package zoo\n",
    "## to turn the data into a timeseries (see Listing 1.1/1.2)"
   ]
  },
  {
   "cell_type": "code",
   "execution_count": 4,
   "metadata": {},
   "outputs": [
    {
     "data": {
      "text/html": [
       "16.25"
      ],
      "text/latex": [
       "16.25"
      ],
      "text/markdown": [
       "16.25"
      ],
      "text/plain": [
       "[1] 16.25"
      ]
     },
     "metadata": {},
     "output_type": "display_data"
    },
    {
     "data": {
      "text/html": [
       "115.785"
      ],
      "text/latex": [
       "115.785"
      ],
      "text/markdown": [
       "115.785"
      ],
      "text/plain": [
       "[1] 115.785"
      ]
     },
     "metadata": {},
     "output_type": "display_data"
    },
    {
     "data": {
      "text/html": [
       "9"
      ],
      "text/latex": [
       "9"
      ],
      "text/markdown": [
       "9"
      ],
      "text/plain": [
       "[1] 9"
      ]
     },
     "metadata": {},
     "output_type": "display_data"
    },
    {
     "data": {
      "text/html": [
       "3.1"
      ],
      "text/latex": [
       "3.1"
      ],
      "text/markdown": [
       "3.1"
      ],
      "text/plain": [
       "[1] 3.1"
      ]
     },
     "metadata": {},
     "output_type": "display_data"
    },
    {
     "data": {
      "text/html": [
       "<ol class=list-inline>\n",
       "\t<li>3.1</li>\n",
       "\t<li>9</li>\n",
       "</ol>\n"
      ],
      "text/latex": [
       "\\begin{enumerate*}\n",
       "\\item 3.1\n",
       "\\item 9\n",
       "\\end{enumerate*}\n"
      ],
      "text/markdown": [
       "1. 3.1\n",
       "2. 9\n",
       "\n",
       "\n"
      ],
      "text/plain": [
       "[1] 3.1 9.0"
      ]
     },
     "metadata": {},
     "output_type": "display_data"
    },
    {
     "data": {
      "text/html": [
       "5.41666666666667"
      ],
      "text/latex": [
       "5.41666666666667"
      ],
      "text/markdown": [
       "5.41666666666667"
      ],
      "text/plain": [
       "[1] 5.416667"
      ]
     },
     "metadata": {},
     "output_type": "display_data"
    },
    {
     "data": {
      "text/html": [
       "4.15"
      ],
      "text/latex": [
       "4.15"
      ],
      "text/markdown": [
       "4.15"
      ],
      "text/plain": [
       "[1] 4.15"
      ]
     },
     "metadata": {},
     "output_type": "display_data"
    },
    {
     "data": {
      "text/html": [
       "<table>\n",
       "<tbody>\n",
       "\t<tr><td>9.905833</td></tr>\n",
       "</tbody>\n",
       "</table>\n"
      ],
      "text/latex": [
       "\\begin{tabular}{l}\n",
       "\t 9.905833\\\\\n",
       "\\end{tabular}\n"
      ],
      "text/markdown": [
       "\n",
       "| 9.905833 | \n",
       "\n",
       "\n"
      ],
      "text/plain": [
       "     [,1]    \n",
       "[1,] 9.905833"
      ]
     },
     "metadata": {},
     "output_type": "display_data"
    },
    {
     "data": {
      "text/html": [
       "<table>\n",
       "<tbody>\n",
       "\t<tr><td>9.905833</td></tr>\n",
       "</tbody>\n",
       "</table>\n"
      ],
      "text/latex": [
       "\\begin{tabular}{l}\n",
       "\t 9.905833\\\\\n",
       "\\end{tabular}\n"
      ],
      "text/markdown": [
       "\n",
       "| 9.905833 | \n",
       "\n",
       "\n"
      ],
      "text/plain": [
       "     [,1]    \n",
       "[1,] 9.905833"
      ]
     },
     "metadata": {},
     "output_type": "display_data"
    },
    {
     "data": {
      "text/html": [
       "<table>\n",
       "<tbody>\n",
       "\t<tr><td>1</td></tr>\n",
       "</tbody>\n",
       "</table>\n"
      ],
      "text/latex": [
       "\\begin{tabular}{l}\n",
       "\t 1\\\\\n",
       "\\end{tabular}\n"
      ],
      "text/markdown": [
       "\n",
       "| 1 | \n",
       "\n",
       "\n"
      ],
      "text/plain": [
       "     [,1]\n",
       "[1,] 1   "
      ]
     },
     "metadata": {},
     "output_type": "display_data"
    },
    {
     "data": {
      "text/html": [
       "<ol class=list-inline>\n",
       "\t<li>3.1</li>\n",
       "\t<li>4.15</li>\n",
       "\t<li>9</li>\n",
       "</ol>\n"
      ],
      "text/latex": [
       "\\begin{enumerate*}\n",
       "\\item 3.1\n",
       "\\item 4.15\n",
       "\\item 9\n",
       "\\end{enumerate*}\n"
      ],
      "text/markdown": [
       "1. 3.1\n",
       "2. 4.15\n",
       "3. 9\n",
       "\n",
       "\n"
      ],
      "text/plain": [
       "[1] 3.10 4.15 9.00"
      ]
     },
     "metadata": {},
     "output_type": "display_data"
    },
    {
     "data": {
      "text/html": [
       "<table>\n",
       "<tbody>\n",
       "\t<tr><td>1.131402</td></tr>\n",
       "\t<tr><td>1.423108</td></tr>\n",
       "\t<tr><td>2.197225</td></tr>\n",
       "</tbody>\n",
       "</table>\n"
      ],
      "text/latex": [
       "\\begin{tabular}{l}\n",
       "\t 1.131402\\\\\n",
       "\t 1.423108\\\\\n",
       "\t 2.197225\\\\\n",
       "\\end{tabular}\n"
      ],
      "text/markdown": [
       "\n",
       "| 1.131402 | \n",
       "| 1.423108 | \n",
       "| 2.197225 | \n",
       "\n",
       "\n"
      ],
      "text/plain": [
       "     [,1]    \n",
       "[1,] 1.131402\n",
       "[2,] 1.423108\n",
       "[3,] 2.197225"
      ]
     },
     "metadata": {},
     "output_type": "display_data"
    }
   ],
   "source": [
    "# Basic Summary Statistics in R\n",
    "# Listing R.4\n",
    "# Last updated June 2018\n",
    "#\n",
    "#\n",
    "\n",
    "y=matrix(c(3.1,4.15,9))\n",
    "\n",
    "sum(y)         # sum of all elements of y\n",
    "prod(y)        # product of all elements of y\n",
    "max(y)         # maximum value of y\n",
    "min(y)         # minimum value of y\n",
    "range(y)       # min, max value of y\n",
    "mean(y)        # arithmetic mean\n",
    "median(y)      # median\n",
    "var(y)         # variance\n",
    "cov(y)         # covar matrix = variance for single vector\n",
    "cor(y)         # corr matrix = [1] for single vector\n",
    "sort(y)        # sorting in ascending order\n",
    "log(y)         # natural log"
   ]
  },
  {
   "cell_type": "code",
   "execution_count": 5,
   "metadata": {},
   "outputs": [
    {
     "data": {
      "text/html": [
       "5.41666666666667"
      ],
      "text/latex": [
       "5.41666666666667"
      ],
      "text/markdown": [
       "5.41666666666667"
      ],
      "text/plain": [
       "[1] 5.416667"
      ]
     },
     "metadata": {},
     "output_type": "display_data"
    },
    {
     "data": {
      "text/html": [
       "<table>\n",
       "<tbody>\n",
       "\t<tr><td>9.905833</td></tr>\n",
       "</tbody>\n",
       "</table>\n"
      ],
      "text/latex": [
       "\\begin{tabular}{l}\n",
       "\t 9.905833\\\\\n",
       "\\end{tabular}\n"
      ],
      "text/markdown": [
       "\n",
       "| 9.905833 | \n",
       "\n",
       "\n"
      ],
      "text/plain": [
       "     [,1]    \n",
       "[1,] 9.905833"
      ]
     },
     "metadata": {},
     "output_type": "display_data"
    },
    {
     "data": {
      "text/html": [
       "3.14735338551827"
      ],
      "text/latex": [
       "3.14735338551827"
      ],
      "text/markdown": [
       "3.14735338551827"
      ],
      "text/plain": [
       "[1] 3.147353"
      ]
     },
     "metadata": {},
     "output_type": "display_data"
    },
    {
     "data": {
      "text/html": [
       "0.61960293299089"
      ],
      "text/latex": [
       "0.61960293299089"
      ],
      "text/markdown": [
       "0.61960293299089"
      ],
      "text/plain": [
       "[1] 0.6196029"
      ]
     },
     "metadata": {},
     "output_type": "display_data"
    },
    {
     "data": {
      "text/html": [
       "1.5"
      ],
      "text/latex": [
       "1.5"
      ],
      "text/markdown": [
       "1.5"
      ],
      "text/plain": [
       "[1] 1.5"
      ]
     },
     "metadata": {},
     "output_type": "display_data"
    }
   ],
   "source": [
    "# Calculating Moments in R\n",
    "# Listing R.5\n",
    "# Last updated June 2018\n",
    "#\n",
    "#\n",
    "\n",
    "library(moments)\n",
    "\n",
    "mean(y)      # mean\n",
    "var(y)       # variance\n",
    "sd(y)        # unbiased standard deviation, by default\n",
    "skewness(y)  # skewness\n",
    "kurtosis(y)  # kurtosis"
   ]
  },
  {
   "cell_type": "code",
   "execution_count": 6,
   "metadata": {},
   "outputs": [
    {
     "data": {
      "text/html": [
       "<table>\n",
       "<tbody>\n",
       "\t<tr><td> 7</td></tr>\n",
       "\t<tr><td>10</td></tr>\n",
       "</tbody>\n",
       "</table>\n"
      ],
      "text/latex": [
       "\\begin{tabular}{l}\n",
       "\t  7\\\\\n",
       "\t 10\\\\\n",
       "\\end{tabular}\n"
      ],
      "text/markdown": [
       "\n",
       "|  7 | \n",
       "| 10 | \n",
       "\n",
       "\n"
      ],
      "text/plain": [
       "     [,1]\n",
       "[1,]  7  \n",
       "[2,] 10  "
      ]
     },
     "metadata": {},
     "output_type": "display_data"
    },
    {
     "data": {
      "text/html": [
       "<table>\n",
       "<tbody>\n",
       "\t<tr><td>1</td><td>3</td></tr>\n",
       "\t<tr><td>2</td><td>4</td></tr>\n",
       "\t<tr><td>1</td><td>2</td></tr>\n",
       "</tbody>\n",
       "</table>\n"
      ],
      "text/latex": [
       "\\begin{tabular}{ll}\n",
       "\t 1 & 3\\\\\n",
       "\t 2 & 4\\\\\n",
       "\t 1 & 2\\\\\n",
       "\\end{tabular}\n"
      ],
      "text/markdown": [
       "\n",
       "| 1 | 3 | \n",
       "| 2 | 4 | \n",
       "| 1 | 2 | \n",
       "\n",
       "\n"
      ],
      "text/plain": [
       "     [,1] [,2]\n",
       "[1,] 1    3   \n",
       "[2,] 2    4   \n",
       "[3,] 1    2   "
      ]
     },
     "metadata": {},
     "output_type": "display_data"
    },
    {
     "data": {
      "text/html": [
       "<table>\n",
       "<tbody>\n",
       "\t<tr><td>1</td><td>3</td><td>1</td></tr>\n",
       "\t<tr><td>2</td><td>4</td><td>2</td></tr>\n",
       "</tbody>\n",
       "</table>\n"
      ],
      "text/latex": [
       "\\begin{tabular}{lll}\n",
       "\t 1 & 3 & 1\\\\\n",
       "\t 2 & 4 & 2\\\\\n",
       "\\end{tabular}\n"
      ],
      "text/markdown": [
       "\n",
       "| 1 | 3 | 1 | \n",
       "| 2 | 4 | 2 | \n",
       "\n",
       "\n"
      ],
      "text/plain": [
       "     [,1] [,2] [,3]\n",
       "[1,] 1    3    1   \n",
       "[2,] 2    4    2   "
      ]
     },
     "metadata": {},
     "output_type": "display_data"
    }
   ],
   "source": [
    "# Basic Matrix Operations in R\n",
    "# Listing R.6\n",
    "# Last updated June 2018\n",
    "#\n",
    "#\n",
    "\n",
    "z = matrix(c(1,2,3,4),2,2)   # z is a 2 x 2 matrix\n",
    "x = matrix(c(1,2),1,2)       # x is a 1 x 2 matrix\n",
    "\n",
    "## Note: z * x is undefined since the two matrices are not conformable\n",
    "\n",
    "z %*% t(x)                   # this evaluates to a 2 x 1 matrix\n",
    "\n",
    "rbind(z,x)                   # \"stacking\" z and x vertically\n",
    "cbind(z,t(x))                # \"stacking z and x' horizontally\n",
    "\n",
    "## Note: dimensions must match along the combining axis"
   ]
  },
  {
   "cell_type": "code",
   "execution_count": 7,
   "metadata": {
    "scrolled": false
   },
   "outputs": [
    {
     "data": {
      "text/html": [
       "<ol class=list-inline>\n",
       "\t<li>-1.2815515655446</li>\n",
       "\t<li>-0.841621233572914</li>\n",
       "\t<li>-0.524400512708041</li>\n",
       "\t<li>-0.2533471031358</li>\n",
       "\t<li>0</li>\n",
       "\t<li>0.2533471031358</li>\n",
       "\t<li>0.524400512708041</li>\n",
       "\t<li>0.841621233572914</li>\n",
       "\t<li>1.2815515655446</li>\n",
       "</ol>\n"
      ],
      "text/latex": [
       "\\begin{enumerate*}\n",
       "\\item -1.2815515655446\n",
       "\\item -0.841621233572914\n",
       "\\item -0.524400512708041\n",
       "\\item -0.2533471031358\n",
       "\\item 0\n",
       "\\item 0.2533471031358\n",
       "\\item 0.524400512708041\n",
       "\\item 0.841621233572914\n",
       "\\item 1.2815515655446\n",
       "\\end{enumerate*}\n"
      ],
      "text/markdown": [
       "1. -1.2815515655446\n",
       "2. -0.841621233572914\n",
       "3. -0.524400512708041\n",
       "4. -0.2533471031358\n",
       "5. 0\n",
       "6. 0.2533471031358\n",
       "7. 0.524400512708041\n",
       "8. 0.841621233572914\n",
       "9. 1.2815515655446\n",
       "\n",
       "\n"
      ],
      "text/plain": [
       "[1] -1.2815516 -0.8416212 -0.5244005 -0.2533471  0.0000000  0.2533471  0.5244005\n",
       "[8]  0.8416212  1.2815516"
      ]
     },
     "metadata": {},
     "output_type": "display_data"
    },
    {
     "data": {
      "text/html": [
       "<ol class=list-inline>\n",
       "\t<li>0.0199709840358594</li>\n",
       "\t<li>0.0580582617584078</li>\n",
       "\t<li>0.186950483150029</li>\n",
       "\t<li>0.5</li>\n",
       "\t<li>0.813049516849971</li>\n",
       "\t<li>0.941941738241592</li>\n",
       "\t<li>0.980029015964141</li>\n",
       "</ol>\n"
      ],
      "text/latex": [
       "\\begin{enumerate*}\n",
       "\\item 0.0199709840358594\n",
       "\\item 0.0580582617584078\n",
       "\\item 0.186950483150029\n",
       "\\item 0.5\n",
       "\\item 0.813049516849971\n",
       "\\item 0.941941738241592\n",
       "\\item 0.980029015964141\n",
       "\\end{enumerate*}\n"
      ],
      "text/markdown": [
       "1. 0.0199709840358594\n",
       "2. 0.0580582617584078\n",
       "3. 0.186950483150029\n",
       "4. 0.5\n",
       "5. 0.813049516849971\n",
       "6. 0.941941738241592\n",
       "7. 0.980029015964141\n",
       "\n",
       "\n"
      ],
      "text/plain": [
       "[1] 0.01997098 0.05805826 0.18695048 0.50000000 0.81304952 0.94194174 0.98002902"
      ]
     },
     "metadata": {},
     "output_type": "display_data"
    },
    {
     "data": {
      "text/html": [
       "<ol class=list-inline>\n",
       "\t<li>0</li>\n",
       "\t<li>0</li>\n",
       "\t<li>0</li>\n",
       "\t<li>0.5</li>\n",
       "\t<li>0.303265329856317</li>\n",
       "\t<li>0.183939720585721</li>\n",
       "\t<li>0.111565080074215</li>\n",
       "</ol>\n"
      ],
      "text/latex": [
       "\\begin{enumerate*}\n",
       "\\item 0\n",
       "\\item 0\n",
       "\\item 0\n",
       "\\item 0.5\n",
       "\\item 0.303265329856317\n",
       "\\item 0.183939720585721\n",
       "\\item 0.111565080074215\n",
       "\\end{enumerate*}\n"
      ],
      "text/markdown": [
       "1. 0\n",
       "2. 0\n",
       "3. 0\n",
       "4. 0.5\n",
       "5. 0.303265329856317\n",
       "6. 0.183939720585721\n",
       "7. 0.111565080074215\n",
       "\n",
       "\n"
      ],
      "text/plain": [
       "[1] 0.0000000 0.0000000 0.0000000 0.5000000 0.3032653 0.1839397 0.1115651"
      ]
     },
     "metadata": {},
     "output_type": "display_data"
    },
    {
     "name": "stdout",
     "output_type": "stream",
     "text": [
      "      mean          sd    \n",
      "  0.02829141   1.42600592 \n",
      " (0.14260059) (0.10083385)\n"
     ]
    }
   ],
   "source": [
    "# Statistical Distributions in R\n",
    "# Listing R.7\n",
    "# Last updated June 2018\n",
    "#\n",
    "#\n",
    "\n",
    "\n",
    "q = seq(from = -3, to = 3, length = 7)     # specify a set of values\n",
    "\n",
    "p = seq(from = 0.1, to = 0.9, length = 9)  # specify a set of probabilities\n",
    "\n",
    "qnorm(p, mean = 0, sd = 1)                 # element-wise inverse Normal quantile\n",
    "\n",
    "pt(q, df = 4)                              # element-wise cdf under Student-t(4)\n",
    "\n",
    "dchisq(q, df = 2)                          # element-wise pdf under Chisq(2)\n",
    "\n",
    "## Similar syntax for other distributions\n",
    "## q for quantile, p for cdf, d for pdf\n",
    "## followed by the abbreviation of the distribution\n",
    "\n",
    "## One can also obtain pseudorandom samples from distributions\n",
    "\n",
    "x = rt(100, df = 5)                        # Sampling 100 times from TDist with 5 df\n",
    "\n",
    "y = rnorm(50, mean = 0, sd = 1)            # Sampling 50 times from a standard normal \n",
    "\n",
    "## Given data, we obtain MLE estimates of distribution parameters with package MASS:\n",
    "\n",
    "library(MASS)\n",
    "\n",
    "res = fitdistr(x, densfun = \"normal\")      # Fitting x to normal dist\n",
    "\n",
    "print(res)"
   ]
  },
  {
   "cell_type": "code",
   "execution_count": 8,
   "metadata": {},
   "outputs": [
    {
     "data": {
      "text/plain": [
       "\n",
       "\tJarque Bera Test\n",
       "\n",
       "data:  x\n",
       "X-squared = 48.511, df = 2, p-value = 2.924e-11\n"
      ]
     },
     "metadata": {},
     "output_type": "display_data"
    },
    {
     "data": {
      "text/plain": [
       "\n",
       "\tBox-Ljung test\n",
       "\n",
       "data:  x\n",
       "X-squared = 21.823, df = 20, p-value = 0.3502\n"
      ]
     },
     "metadata": {},
     "output_type": "display_data"
    }
   ],
   "source": [
    "# Statistical Tests in R\n",
    "# Listing R.8\n",
    "# Last updated June 2018\n",
    "#\n",
    "#\n",
    "\n",
    "library(tseries)\n",
    "\n",
    "x = rt(500, df = 5)                            # Create hypothetical dataset x\n",
    "\n",
    "jarque.bera.test(x)                            # Jarque-Bera test for normality\n",
    "Box.test(x, lag = 20, type = c(\"Ljung-Box\"))   # Ljung-Box test for serial correlation"
   ]
  },
  {
   "cell_type": "code",
   "execution_count": 9,
   "metadata": {},
   "outputs": [
    {
     "data": {
      "image/png": "[encoded data removed]",
      "text/plain": [
       "Plot with title \"Series  x\""
      ]
     },
     "metadata": {},
     "output_type": "display_data"
    }
   ],
   "source": [
    "# Time Series in R\n",
    "# Listing R.9\n",
    "# Last updated June 2018\n",
    "#\n",
    "#\n",
    "\n",
    "x = rt(60, df = 5)  # Create hypothetical dataset x\n",
    "\n",
    "par(mfrow=c(1,2), pty='s')\n",
    "\n",
    "acf(x,20)           # autocorrelation for lags 1:20\n",
    "pacf(x,20)          # partial autocorrelation for lags 1:20"
   ]
  },
  {
   "cell_type": "code",
   "execution_count": 10,
   "metadata": {},
   "outputs": [
    {
     "name": "stdout",
     "output_type": "stream",
     "text": [
      "[1] 9\n",
      "[1] 16\n",
      "[1] 25\n",
      "[1] 36\n",
      "[1] 49\n",
      "[1] \"X is not a multiple of 3\"\n"
     ]
    },
    {
     "data": {
      "text/html": [
       "2.9748560343394"
      ],
      "text/latex": [
       "2.9748560343394"
      ],
      "text/markdown": [
       "2.9748560343394"
      ],
      "text/plain": [
       "[1] 2.974856"
      ]
     },
     "metadata": {},
     "output_type": "display_data"
    }
   ],
   "source": [
    "# Loops and Functions in R\n",
    "# Listing R.10\n",
    "# Last updated June 2018\n",
    "#\n",
    "#\n",
    "\n",
    "## For loops\n",
    "\n",
    "for (i in 3:7)        # iterates through [3,4,5,6,7]\n",
    "    print(i^2)      \n",
    "\n",
    "## If-else loops\n",
    "\n",
    "X = 10\n",
    "\n",
    "if (X %% 3 == 0) {\n",
    "    print(\"X is a multiple of 3\")\n",
    "} else {\n",
    "    print(\"X is not a multiple of 3\")\n",
    "}\n",
    "    \n",
    "## Functions (example: a simple excess kurtosis function)\n",
    "\n",
    "excess_kurtosis = function(x, excess = 3){ # note: excess optional, default=3\n",
    "    m4 = mean((x-mean(x))^4)\n",
    "    excess_kurt = m4/(sd(x)^4) - excess\n",
    "    excess_kurt\n",
    "}\n",
    "\n",
    "x = rt(60, df = 5)                         # Create hypothetical dataset x\n",
    "\n",
    "excess_kurtosis(x)      "
   ]
  },
  {
   "cell_type": "code",
   "execution_count": 11,
   "metadata": {},
   "outputs": [
    {
     "data": {
      "image/png": "[encoded data removed]",
      "text/plain": [
       "Plot with title \"Histogram of y\""
      ]
     },
     "metadata": {},
     "output_type": "display_data"
    }
   ],
   "source": [
    "# Basic Graphs in R\n",
    "# Listing R.11\n",
    "# Last updated June 2018\n",
    "#\n",
    "#\n",
    "\n",
    "y = rnorm(50, mean = 0, sd = 1)\n",
    "\n",
    "par(mfrow=c(2,2)) # sets up space for subplots\n",
    "\n",
    "barplot(y)        # bar plot\n",
    "plot(y,type='l')  # line plot\n",
    "hist(y)           # histogram\n",
    "plot(y)           # scatter plot"
   ]
  },
  {
   "cell_type": "code",
   "execution_count": 12,
   "metadata": {},
   "outputs": [
    {
     "name": "stdout",
     "output_type": "stream",
     "text": [
      "[1] \"double\"\n",
      "[1] \"integer\"\n"
     ]
    }
   ],
   "source": [
    "# Miscellaneous Useful Functions in R\n",
    "# Listing R.12\n",
    "# Last updated June 2018\n",
    "#\n",
    "#\n",
    "\n",
    "## Convert objects from one type to another with as.integer() etc\n",
    "## To check type, use typeof(object)\n",
    "\n",
    "x = 8.0\n",
    "\n",
    "print(typeof(x))\n",
    "\n",
    "x = as.integer(x)\n",
    "\n",
    "print(typeof(x))"
   ]
  },
  {
   "cell_type": "markdown",
   "metadata": {},
   "source": [
    "# Chapter 1: Financial Markets, Prices and Risk\n",
    "\n",
    "-  1.1: Loading hypothetical stock prices, converting to returns, plotting returns\n",
    "-  1.3: Summary statistics for returns timeseries\n",
    "-  1.5: Autocorrelation function (ACF) plots, Ljung-Box test\n",
    "-  1.7: Quantile-Quantile (QQ) plots\n",
    "-  1.9: Correlation matrix between different stocks"
   ]
  },
  {
   "cell_type": "code",
   "execution_count": 13,
   "metadata": {
    "scrolled": false
   },
   "outputs": [
    {
     "data": {
      "image/png": "[encoded data removed]",
      "text/plain": [
       "Plot with title \"\""
      ]
     },
     "metadata": {},
     "output_type": "display_data"
    }
   ],
   "source": [
    "# Download S&P500 data in R\n",
    "# Listing 1.1\n",
    "# Last updated June 2018\n",
    "#\n",
    "#\n",
    "\n",
    "library(tseries)\n",
    "library(zoo)\n",
    "\n",
    "\n",
    " \n",
    "price = zoo(read.csv('index.csv', header=TRUE, sep=','))\n",
    "y=diff(log(price))  # calculate returns\n",
    "plot(y)             # plot returns\n",
    "y=coredata(y)       # get core data"
   ]
  },
  {
   "cell_type": "code",
   "execution_count": 14,
   "metadata": {
    "scrolled": true
   },
   "outputs": [
    {
     "data": {
      "text/html": [
       "0.000258159900825998"
      ],
      "text/latex": [
       "0.000258159900825998"
      ],
      "text/markdown": [
       "0.000258159900825998"
      ],
      "text/plain": [
       "[1] 0.0002581599"
      ]
     },
     "metadata": {},
     "output_type": "display_data"
    },
    {
     "data": {
      "text/html": [
       "0.0100057286437631"
      ],
      "text/latex": [
       "0.0100057286437631"
      ],
      "text/markdown": [
       "0.0100057286437631"
      ],
      "text/plain": [
       "[1] 0.01000573"
      ]
     },
     "metadata": {},
     "output_type": "display_data"
    },
    {
     "data": {
      "text/html": [
       "-0.101955486273023"
      ],
      "text/latex": [
       "-0.101955486273023"
      ],
      "text/markdown": [
       "-0.101955486273023"
      ],
      "text/plain": [
       "[1] -0.1019555"
      ]
     },
     "metadata": {},
     "output_type": "display_data"
    },
    {
     "data": {
      "text/html": [
       "0.106735895029117"
      ],
      "text/latex": [
       "0.106735895029117"
      ],
      "text/markdown": [
       "0.106735895029117"
      ],
      "text/plain": [
       "[1] 0.1067359"
      ]
     },
     "metadata": {},
     "output_type": "display_data"
    },
    {
     "data": {
      "text/html": [
       "<strong>Index:</strong> 0.152633269896337"
      ],
      "text/latex": [
       "\\textbf{Index:} 0.152633269896337"
      ],
      "text/markdown": [
       "**Index:** 0.152633269896337"
      ],
      "text/plain": [
       "    Index \n",
       "0.1526333 "
      ]
     },
     "metadata": {},
     "output_type": "display_data"
    },
    {
     "data": {
      "text/html": [
       "<strong>Index:</strong> 16.981171461092"
      ],
      "text/latex": [
       "\\textbf{Index:} 16.981171461092"
      ],
      "text/markdown": [
       "**Index:** 16.981171461092"
      ],
      "text/plain": [
       "   Index \n",
       "16.98117 "
      ]
     },
     "metadata": {},
     "output_type": "display_data"
    },
    {
     "data": {
      "image/png": "[encoded data removed]",
      "text/plain": [
       "Plot with title \"Index\""
      ]
     },
     "metadata": {},
     "output_type": "display_data"
    },
    {
     "data": {
      "text/plain": [
       "\n",
       "\tJarque Bera Test\n",
       "\n",
       "data:  y\n",
       "X-squared = 46251, df = 2, p-value < 2.2e-16\n"
      ]
     },
     "metadata": {},
     "output_type": "display_data"
    },
    {
     "data": {
      "text/plain": [
       "\n",
       "\tBox-Ljung test\n",
       "\n",
       "data:  y\n",
       "X-squared = 93.488, df = 20, p-value = 1.809e-11\n"
      ]
     },
     "metadata": {},
     "output_type": "display_data"
    },
    {
     "data": {
      "text/plain": [
       "\n",
       "\tBox-Ljung test\n",
       "\n",
       "data:  y^2\n",
       "X-squared = 2543, df = 20, p-value < 2.2e-16\n"
      ]
     },
     "metadata": {},
     "output_type": "display_data"
    },
    {
     "data": {
      "image/png": "[encoded data removed]",
      "text/plain": [
       "Plot with title \"Index\""
      ]
     },
     "metadata": {},
     "output_type": "display_data"
    }
   ],
   "source": [
    "# Sample statistics in R\n",
    "# Listing 1.3\n",
    "# Last updated June 2018\n",
    "#\n",
    "#\n",
    "\n",
    "library(moments)\n",
    "\n",
    "mean(y)\n",
    "sd(y)\n",
    "min(y)\n",
    "max(y)\n",
    "skewness(y)\n",
    "kurtosis(y)\n",
    "acf(y,1)\n",
    "acf(y^2,1)\n",
    "jarque.bera.test(y)\n",
    "Box.test(y, lag = 20, type = c(\"Ljung-Box\"))\n",
    "Box.test(y^2, lag = 20, type = c(\"Ljung-Box\"))"
   ]
  },
  {
   "cell_type": "code",
   "execution_count": 15,
   "metadata": {
    "scrolled": true
   },
   "outputs": [
    {
     "data": {
      "image/png": "[encoded data removed]",
      "text/plain": [
       "Plot with title \"Index\""
      ]
     },
     "metadata": {},
     "output_type": "display_data"
    }
   ],
   "source": [
    "# ACF plots and the Ljung-Box test in R\n",
    "# Listing 1.5\n",
    "# Last updated June 2018\n",
    "#\n",
    "#\n",
    "\n",
    "library(MASS)\n",
    "library(stats)\n",
    "\n",
    "par(mfrow=c(1,2), pty=\"s\")\n",
    "q = acf(y,20)\n",
    "q1 = acf(y^2,20)"
   ]
  },
  {
   "cell_type": "code",
   "execution_count": 16,
   "metadata": {
    "scrolled": false
   },
   "outputs": [
    {
     "data": {
      "image/png": "[encoded data removed]",
      "text/plain": [
       "plot without title"
      ]
     },
     "metadata": {},
     "output_type": "display_data"
    }
   ],
   "source": [
    "# QQ plots in R\n",
    "# Listing 1.7\n",
    "# Last updated June 2018\n",
    "#\n",
    "#\n",
    "\n",
    "library(car)\n",
    "\n",
    "par(mfrow=c(1,2), pty=\"s\")\n",
    "\n",
    "qqPlot(y)\n",
    "qqPlot(y,distribution=\"t\",df=5)"
   ]
  },
  {
   "cell_type": "code",
   "execution_count": 17,
   "metadata": {
    "scrolled": false
   },
   "outputs": [
    {
     "name": "stdout",
     "output_type": "stream",
     "text": [
      "          A         B         C\n",
      "A 1.0000000 0.2296842 0.2126192\n",
      "B 0.2296842 1.0000000 0.1450511\n",
      "C 0.2126192 0.1450511 1.0000000\n"
     ]
    }
   ],
   "source": [
    "# Download stock prices in R\n",
    "# Listing 1.9\n",
    "# Last updated June 2018\n",
    "#\n",
    "#\n",
    "\n",
    "p = ts(read.csv('stocks.csv',header=TRUE,sep=','))\n",
    "\n",
    "y=diff(log(p))\n",
    "print(cor(y)) # correlation matrix"
   ]
  },
  {
   "cell_type": "markdown",
   "metadata": {},
   "source": [
    "# Chapter 2: Univariate Volatility Modelling\n",
    "\n",
    "-  2.1: GARCH and t-GARCH estimation\n",
    "-  2.3: APARCH estimation"
   ]
  },
  {
   "cell_type": "code",
   "execution_count": 18,
   "metadata": {
    "scrolled": true
   },
   "outputs": [
    {
     "name": "stdout",
     "output_type": "stream",
     "text": [
      "\n",
      "Series Initialization:\n",
      " ARMA Model:                arma\n",
      " Formula Mean:              ~ arma(0, 0)\n",
      " GARCH Model:               garch\n",
      " Formula Variance:          ~ garch(1, 0)\n",
      " ARMA Order:                0 0\n",
      " Max ARMA Order:            0\n",
      " GARCH Order:               1 0\n",
      " Max GARCH Order:           1\n",
      " Maximum Order:             1\n",
      " Conditional Dist:          norm\n",
      " h.start:                   2\n",
      " llh.start:                 1\n",
      " Length of Series:          5676\n",
      " Recursion Init:            mci\n",
      " Series Scale:              1.000573\n",
      "\n",
      "Parameter Initialization:\n",
      " Initial Parameters:          $params\n",
      " Limits of Transformations:   $U, $V\n",
      " Which Parameters are Fixed?  $includes\n",
      " Parameter Matrix:\n",
      "                       U            V params includes\n",
      "    mu     -1.977953e-17 1.977953e-17    0.0    FALSE\n",
      "    omega   1.000000e-06 1.000000e+02    0.1     TRUE\n",
      "    alpha1  1.000000e-08 1.000000e+00    0.1     TRUE\n",
      "    gamma1 -1.000000e+00 1.000000e+00    0.1    FALSE\n",
      "    delta   0.000000e+00 2.000000e+00    2.0    FALSE\n",
      "    skew    1.000000e-01 1.000000e+01    1.0    FALSE\n",
      "    shape   1.000000e+00 1.000000e+01    4.0    FALSE\n",
      " Index List of Parameters to be Optimized:\n",
      " omega alpha1 \n",
      "     2      3 \n",
      " Persistence:                  0.1 \n",
      "\n",
      "\n",
      "--- START OF TRACE ---\n",
      "Selected Algorithm: nlminb \n",
      "\n",
      "R coded nlminb Solver: \n",
      "\n",
      "  0:     16797.442: 0.100000 0.100000\n",
      "  1:     7857.9063:  1.06968 0.344367\n",
      "  2:     7851.0951:  1.07156 0.309265\n",
      "  3:     7691.1536: 0.801715 0.230117\n",
      "  4:     7671.9202: 0.710551 0.267167\n",
      "  5:     7668.4564: 0.695436 0.364405\n",
      "  6:     7667.5808: 0.673414 0.349908\n",
      "  7:     7667.3737: 0.684009 0.340375\n",
      "  8:     7667.3737: 0.683887 0.340279\n",
      "  9:     7667.3737: 0.683883 0.340296\n",
      "\n",
      "Final Estimate of the Negative LLH:\n",
      " LLH:  7670.624    norm LLH:  1.351414 \n",
      "    omega    alpha1 \n",
      "0.6846670 0.3402963 \n",
      "\n",
      "R-optimhess Difference Approximated Hessian Matrix:\n",
      "           omega    alpha1\n",
      "omega  -4440.117 -1189.811\n",
      "alpha1 -1189.811 -1746.219\n",
      "attr(,\"time\")\n",
      "Time difference of 0.2310231 secs\n",
      "\n",
      "--- END OF TRACE ---\n",
      "\n",
      "\n",
      "Time to Estimate Parameters:\n",
      " Time difference of 0.349035 secs\n"
     ]
    },
    {
     "data": {
      "text/plain": [
       "\n",
       "Title:\n",
       " GARCH Modelling \n",
       "\n",
       "Call:\n",
       " garchFit(formula = ~garch(1, 0), data = y, include.mean = FALSE) \n",
       "\n",
       "Mean and Variance Equation:\n",
       " data ~ garch(1, 0)\n",
       "<environment: 0x00000000256dcba8>\n",
       " [data = y]\n",
       "\n",
       "Conditional Distribution:\n",
       " norm \n",
       "\n",
       "Coefficient(s):\n",
       "  omega   alpha1  \n",
       "0.68467  0.34030  \n",
       "\n",
       "Std. Errors:\n",
       " based on Hessian \n",
       "\n",
       "Error Analysis:\n",
       "        Estimate  Std. Error  t value Pr(>|t|)    \n",
       "omega    0.68467     0.01660    41.25   <2e-16 ***\n",
       "alpha1   0.34030     0.02647    12.86   <2e-16 ***\n",
       "---\n",
       "Signif. codes:  0 '***' 0.001 '**' 0.01 '*' 0.05 '.' 0.1 ' ' 1\n",
       "\n",
       "Log Likelihood:\n",
       " -7670.624    normalized:  -1.351414 \n",
       "\n",
       "Description:\n",
       " Thu Jul 05 09:39:31 2018 by user: fanj5 \n"
      ]
     },
     "metadata": {},
     "output_type": "display_data"
    },
    {
     "name": "stdout",
     "output_type": "stream",
     "text": [
      "\n",
      "Series Initialization:\n",
      " ARMA Model:                arma\n",
      " Formula Mean:              ~ arma(0, 0)\n",
      " GARCH Model:               garch\n",
      " Formula Variance:          ~ garch(4, 0)\n",
      " ARMA Order:                0 0\n",
      " Max ARMA Order:            0\n",
      " GARCH Order:               4 0\n",
      " Max GARCH Order:           4\n",
      " Maximum Order:             4\n",
      " Conditional Dist:          norm\n",
      " h.start:                   5\n",
      " llh.start:                 1\n",
      " Length of Series:          5676\n",
      " Recursion Init:            mci\n",
      " Series Scale:              1.000573\n",
      "\n",
      "Parameter Initialization:\n",
      " Initial Parameters:          $params\n",
      " Limits of Transformations:   $U, $V\n",
      " Which Parameters are Fixed?  $includes\n",
      " Parameter Matrix:\n",
      "                       U            V params includes\n",
      "    mu     -1.977953e-17 1.977953e-17  0.000    FALSE\n",
      "    omega   1.000000e-06 1.000000e+02  0.100     TRUE\n",
      "    alpha1  1.000000e-08 1.000000e+00  0.025     TRUE\n",
      "    alpha2  1.000000e-08 1.000000e+00  0.025     TRUE\n",
      "    alpha3  1.000000e-08 1.000000e+00  0.025     TRUE\n",
      "    alpha4  1.000000e-08 1.000000e+00  0.025     TRUE\n",
      "    gamma1 -1.000000e+00 1.000000e+00  0.100    FALSE\n",
      "    gamma2 -1.000000e+00 1.000000e+00  0.100    FALSE\n",
      "    gamma3 -1.000000e+00 1.000000e+00  0.100    FALSE\n",
      "    gamma4 -1.000000e+00 1.000000e+00  0.100    FALSE\n",
      "    delta   0.000000e+00 2.000000e+00  2.000    FALSE\n",
      "    skew    1.000000e-01 1.000000e+01  1.000    FALSE\n",
      "    shape   1.000000e+00 1.000000e+01  4.000    FALSE\n",
      " Index List of Parameters to be Optimized:\n",
      " omega alpha1 alpha2 alpha3 alpha4 \n",
      "     2      3      4      5      6 \n",
      " Persistence:                  0.1 \n",
      "\n",
      "\n",
      "--- START OF TRACE ---\n",
      "Selected Algorithm: nlminb \n",
      "\n",
      "R coded nlminb Solver: \n",
      "\n",
      "  0:     13453.426: 0.100000 0.0250000 0.0250000 0.0250000 0.0250000\n",
      "  1:     7947.5194: 0.766879 0.416384 0.393311 0.394380 0.385552\n",
      "  2:     7836.0369: 0.394424 0.659988 0.529821 0.556091 0.470103\n",
      "  3:     7570.1274: 0.188761 0.569629 0.434980 0.466180 0.374129\n",
      "  4:     7400.2949: 0.254371 0.431193 0.292256 0.342890 0.241043\n",
      "  5:     7324.0323: 0.286334 0.338362 0.205786 0.267016 0.168650\n",
      "  6:     7293.0743: 0.408281 0.253747 0.153533 0.213959 0.145472\n",
      "  7:     7282.1500: 0.359125 0.219652 0.132971 0.186340 0.125381\n",
      "  8:     7278.2992: 0.389663 0.201469 0.171289 0.146613 0.154680\n",
      "  9:     7276.3805: 0.383261 0.185352 0.157128 0.168508 0.138276\n",
      " 10:     7276.2321: 0.388222 0.184365 0.157080 0.170252 0.141319\n",
      " 11:     7276.1961: 0.386767 0.179634 0.153546 0.169314 0.141475\n",
      " 12:     7276.1886: 0.390209 0.179084 0.155771 0.166470 0.145040\n",
      " 13:     7276.1567: 0.389449 0.179508 0.153142 0.171417 0.142641\n",
      " 14:     7276.1546: 0.389085 0.179029 0.153070 0.171071 0.142566\n",
      " 15:     7276.1538: 0.389487 0.178699 0.153390 0.170928 0.142877\n",
      " 16:     7276.1534: 0.389286 0.178496 0.153393 0.170794 0.142757\n",
      " 17:     7276.1533: 0.389383 0.178459 0.153452 0.170757 0.142829\n",
      " 18:     7276.1532: 0.389359 0.178400 0.153455 0.170692 0.142833\n",
      " 19:     7276.1532: 0.389404 0.178377 0.153488 0.170661 0.142865\n",
      " 20:     7276.1532: 0.389390 0.178355 0.153488 0.170633 0.142861\n",
      " 21:     7276.1532: 0.389412 0.178344 0.153506 0.170614 0.142873\n",
      " 22:     7276.1532: 0.389406 0.178337 0.153506 0.170604 0.142871\n",
      " 23:     7276.1532: 0.389416 0.178327 0.153519 0.170584 0.142876\n",
      " 24:     7276.1532: 0.389414 0.178327 0.153519 0.170581 0.142872\n",
      " 25:     7276.1532: 0.389415 0.178325 0.153520 0.170578 0.142876\n",
      " 26:     7276.1532: 0.389415 0.178325 0.153520 0.170578 0.142875\n",
      " 27:     7276.1532: 0.389415 0.178325 0.153520 0.170578 0.142874\n",
      " 28:     7276.1532: 0.389415 0.178325 0.153520 0.170578 0.142874\n",
      " 29:     7276.1532: 0.389415 0.178325 0.153520 0.170578 0.142874\n",
      "\n",
      "Final Estimate of the Negative LLH:\n",
      " LLH:  7279.404    norm LLH:  1.282488 \n",
      "    omega    alpha1    alpha2    alpha3    alpha4 \n",
      "0.3898611 0.1783252 0.1535197 0.1705782 0.1428745 \n",
      "\n",
      "R-optimhess Difference Approximated Hessian Matrix:\n",
      "           omega     alpha1     alpha2     alpha3     alpha4\n",
      "omega  -7504.084 -1937.3228 -2076.9591 -2177.6312 -2195.9507\n",
      "alpha1 -1937.323 -3294.6402 -1007.5122  -836.7555  -920.6524\n",
      "alpha2 -2076.959 -1007.5122 -3512.2848 -1050.3154  -872.9675\n",
      "alpha3 -2177.631  -836.7555 -1050.3154 -2965.3649  -887.0863\n",
      "alpha4 -2195.951  -920.6524  -872.9675  -887.0863 -4012.0553\n",
      "attr(,\"time\")\n",
      "Time difference of 0.1500149 secs\n",
      "\n",
      "--- END OF TRACE ---\n",
      "\n",
      "\n",
      "Time to Estimate Parameters:\n",
      " Time difference of 0.885088 secs\n"
     ]
    },
    {
     "data": {
      "text/plain": [
       "\n",
       "Title:\n",
       " GARCH Modelling \n",
       "\n",
       "Call:\n",
       " garchFit(formula = ~garch(4, 0), data = y, include.mean = FALSE) \n",
       "\n",
       "Mean and Variance Equation:\n",
       " data ~ garch(4, 0)\n",
       "<environment: 0x0000000026460d38>\n",
       " [data = y]\n",
       "\n",
       "Conditional Distribution:\n",
       " norm \n",
       "\n",
       "Coefficient(s):\n",
       "  omega   alpha1   alpha2   alpha3   alpha4  \n",
       "0.38986  0.17833  0.15352  0.17058  0.14287  \n",
       "\n",
       "Std. Errors:\n",
       " based on Hessian \n",
       "\n",
       "Error Analysis:\n",
       "        Estimate  Std. Error  t value Pr(>|t|)    \n",
       "omega    0.38986     0.01467   26.569  < 2e-16 ***\n",
       "alpha1   0.17833     0.01933    9.223  < 2e-16 ***\n",
       "alpha2   0.15352     0.01897    8.094 6.66e-16 ***\n",
       "alpha3   0.17058     0.02113    8.073 6.66e-16 ***\n",
       "alpha4   0.14287     0.01742    8.201 2.22e-16 ***\n",
       "---\n",
       "Signif. codes:  0 '***' 0.001 '**' 0.01 '*' 0.05 '.' 0.1 ' ' 1\n",
       "\n",
       "Log Likelihood:\n",
       " -7279.404    normalized:  -1.282488 \n",
       "\n",
       "Description:\n",
       " Thu Jul 05 09:39:32 2018 by user: fanj5 \n"
      ]
     },
     "metadata": {},
     "output_type": "display_data"
    },
    {
     "name": "stdout",
     "output_type": "stream",
     "text": [
      "\n",
      "Series Initialization:\n",
      " ARMA Model:                arma\n",
      " Formula Mean:              ~ arma(0, 0)\n",
      " GARCH Model:               garch\n",
      " Formula Variance:          ~ garch(4, 1)\n",
      " ARMA Order:                0 0\n",
      " Max ARMA Order:            0\n",
      " GARCH Order:               4 1\n",
      " Max GARCH Order:           4\n",
      " Maximum Order:             4\n",
      " Conditional Dist:          norm\n",
      " h.start:                   5\n",
      " llh.start:                 1\n",
      " Length of Series:          5676\n",
      " Recursion Init:            mci\n",
      " Series Scale:              1.000573\n",
      "\n",
      "Parameter Initialization:\n",
      " Initial Parameters:          $params\n",
      " Limits of Transformations:   $U, $V\n",
      " Which Parameters are Fixed?  $includes\n",
      " Parameter Matrix:\n",
      "                       U            V params includes\n",
      "    mu     -1.977953e-17 1.977953e-17  0.000    FALSE\n",
      "    omega   1.000000e-06 1.000000e+02  0.100     TRUE\n",
      "    alpha1  1.000000e-08 1.000000e+00  0.025     TRUE\n",
      "    alpha2  1.000000e-08 1.000000e+00  0.025     TRUE\n",
      "    alpha3  1.000000e-08 1.000000e+00  0.025     TRUE\n",
      "    alpha4  1.000000e-08 1.000000e+00  0.025     TRUE\n",
      "    gamma1 -1.000000e+00 1.000000e+00  0.100    FALSE\n",
      "    gamma2 -1.000000e+00 1.000000e+00  0.100    FALSE\n",
      "    gamma3 -1.000000e+00 1.000000e+00  0.100    FALSE\n",
      "    gamma4 -1.000000e+00 1.000000e+00  0.100    FALSE\n",
      "    beta1   1.000000e-08 1.000000e+00  0.800     TRUE\n",
      "    delta   0.000000e+00 2.000000e+00  2.000    FALSE\n",
      "    skew    1.000000e-01 1.000000e+01  1.000    FALSE\n",
      "    shape   1.000000e+00 1.000000e+01  4.000    FALSE\n",
      " Index List of Parameters to be Optimized:\n",
      " omega alpha1 alpha2 alpha3 alpha4  beta1 \n",
      "     2      3      4      5      6     11 \n",
      " Persistence:                  0.9 \n",
      "\n",
      "\n",
      "--- START OF TRACE ---\n",
      "Selected Algorithm: nlminb \n",
      "\n",
      "R coded nlminb Solver: \n",
      "\n",
      "  0:     7165.7198: 0.100000 0.0250000 0.0250000 0.0250000 0.0250000 0.800000\n",
      "  1:     7109.1967: 0.0825475 0.0255746 0.0243028 0.0235361 0.0242867 0.792114\n",
      "  2:     7071.4966: 0.0730530 0.0354922 0.0321951 0.0303386 0.0325046 0.794490\n",
      "  3:     7063.6076: 0.0547706 0.0349453 0.0304894 0.0277453 0.0309942 0.789613\n",
      "  4:     7032.8817: 0.0516722 0.0423519 0.0362660 0.0317462 0.0382105 0.803908\n",
      "  5:     7018.0850: 0.0377531 0.0426118 0.0348197 0.0275753 0.0381511 0.816436\n",
      "  6:     7006.5201: 0.0337169 0.0442224 0.0342497 0.0225642 0.0380474 0.834489\n",
      "  7:     6995.0451: 0.0270589 0.0439473 0.0318539 0.0139028 0.0346248 0.849765\n",
      "  8:     6972.3749: 0.0164921 0.0422046 0.0268601 1.00000e-08 0.0177477 0.901740\n",
      "  9:     6969.2620: 0.0152882 0.0416307 0.0262682 1.00000e-08 0.0170805 0.901041\n",
      " 10:     6969.0439: 0.0154206 0.0413251 0.0255587 1.00000e-08 0.0155547 0.901387\n",
      " 11:     6968.3478: 0.0157871 0.0431875 0.0255366 1.00000e-08 0.0131081 0.903018\n",
      " 12:     6967.8004: 0.0151576 0.0445899 0.0256731 1.00000e-08 0.0102252 0.904266\n",
      " 13:     6966.9421: 0.0145706 0.0456234 0.0267802 1.00000e-08 0.00485967 0.908808\n",
      " 14:     6966.9319: 0.0141104 0.0435070 0.0262002 1.00000e-08 0.00473697 0.909987\n",
      " 15:     6966.7066: 0.0144670 0.0428438 0.0265538 1.00000e-08 0.00465038 0.910940\n",
      " 16:     6966.6159: 0.0141635 0.0434128 0.0273319 1.00000e-08 0.00390984 0.910744\n",
      " 17:     6966.5821: 0.0140831 0.0437446 0.0274338 1.00000e-08 0.00317827 0.911716\n",
      " 18:     6966.4603: 0.0139729 0.0444497 0.0267042 1.00000e-08 0.00243714 0.911847\n",
      " 19:     6966.4082: 0.0141390 0.0450441 0.0265411 1.00000e-08 0.00142341 0.912263\n",
      " 20:     6966.3775: 0.0138485 0.0441489 0.0271645 1.00000e-08 0.00120085 0.912796\n",
      " 21:     6966.3621: 0.0138036 0.0433420 0.0278375 1.00000e-08 0.00107025 0.913492\n",
      " 22:     6966.3113: 0.0136578 0.0444053 0.0273375 1.00000e-08 0.000621025 0.913427\n",
      " 23:     6966.2952: 0.0137060 0.0440261 0.0283940 1.00000e-08 3.40461e-05 0.913461\n",
      " 24:     6966.2707: 0.0134085 0.0446216 0.0265024 1.00000e-08 1.00000e-08 0.914921\n",
      " 25:     6966.2695: 0.0133741 0.0446273 0.0265026 1.00000e-08 1.00000e-08 0.914907\n",
      " 26:     6966.2686: 0.0133759 0.0446575 0.0265240 1.00000e-08 1.00000e-08 0.914914\n",
      " 27:     6966.2678: 0.0133375 0.0447097 0.0264937 1.00000e-08 1.00000e-08 0.914891\n",
      " 28:     6966.2661: 0.0133601 0.0448333 0.0264112 1.00000e-08 1.00000e-08 0.914888\n",
      " 29:     6966.2643: 0.0133450 0.0450560 0.0262138 1.00000e-08 1.00000e-08 0.914847\n",
      " 30:     6966.2628: 0.0133996 0.0455006 0.0258141 1.00000e-08 1.00000e-08 0.914811\n",
      " 31:     6966.2613: 0.0133567 0.0459534 0.0254299 1.00000e-08 1.00000e-08 0.914725\n",
      " 32:     6966.2603: 0.0133379 0.0458781 0.0256410 1.00000e-08 1.00000e-08 0.914734\n",
      " 33:     6966.2597: 0.0133971 0.0458157 0.0257720 1.00000e-08 1.00000e-08 0.914572\n",
      " 34:     6966.2596: 0.0133898 0.0458145 0.0257706 1.00000e-08 1.00000e-08 0.914569\n",
      " 35:     6966.2596: 0.0133873 0.0458203 0.0257758 1.00000e-08 1.00000e-08 0.914570\n",
      " 36:     6966.2595: 0.0133845 0.0458156 0.0257887 1.00000e-08 1.00000e-08 0.914561\n",
      " 37:     6966.2595: 0.0133889 0.0458367 0.0257954 1.00000e-08 1.00000e-08 0.914536\n",
      " 38:     6966.2595: 0.0133880 0.0458629 0.0257741 1.00000e-08 1.00000e-08 0.914535\n",
      " 39:     6966.2595: 0.0133877 0.0458512 0.0257966 1.00000e-08 1.00000e-08 0.914529\n",
      " 40:     6966.2595: 0.0133891 0.0458635 0.0257932 1.00000e-08 1.00000e-08 0.914517\n",
      " 41:     6966.2595: 0.0133891 0.0458610 0.0257938 1.00000e-08 1.00000e-08 0.914519\n",
      "\n",
      "Final Estimate of the Negative LLH:\n",
      " LLH:  6969.51    norm LLH:  1.227891 \n",
      "     omega     alpha1     alpha2     alpha3     alpha4      beta1 \n",
      "0.01340442 0.04586097 0.02579384 0.00000001 0.00000001 0.91451944 \n",
      "\n",
      "R-optimhess Difference Approximated Hessian Matrix:\n",
      "            omega    alpha1    alpha2    alpha3    alpha4     beta1\n",
      "omega  -1547018.7 -529529.8 -537948.8 -538943.1 -549006.4 -755728.9\n",
      "alpha1  -529529.8 -299566.9 -296707.6 -295346.1 -300555.7 -351582.5\n",
      "alpha2  -537948.8 -296707.6 -301397.7 -299505.1 -304762.0 -357220.9\n",
      "alpha3  -538943.1 -295346.1 -299505.1 -306415.6 -312032.4 -363256.3\n",
      "alpha4  -549006.4 -300555.7 -304762.0 -312032.4 -321365.9 -372529.4\n",
      "beta1   -755728.9 -351582.5 -357220.9 -363256.3 -372529.4 -476914.3\n",
      "attr(,\"time\")\n",
      "Time difference of 0.2420168 secs\n",
      "\n",
      "--- END OF TRACE ---\n",
      "\n",
      "\n",
      "Time to Estimate Parameters:\n",
      " Time difference of 0.833076 secs\n"
     ]
    },
    {
     "data": {
      "text/plain": [
       "\n",
       "Title:\n",
       " GARCH Modelling \n",
       "\n",
       "Call:\n",
       " garchFit(formula = ~garch(4, 1), data = y, include.mean = FALSE) \n",
       "\n",
       "Mean and Variance Equation:\n",
       " data ~ garch(4, 1)\n",
       "<environment: 0x0000000024f721b8>\n",
       " [data = y]\n",
       "\n",
       "Conditional Distribution:\n",
       " norm \n",
       "\n",
       "Coefficient(s):\n",
       "     omega      alpha1      alpha2      alpha3      alpha4       beta1  \n",
       "0.01340442  0.04586097  0.02579384  0.00000001  0.00000001  0.91451944  \n",
       "\n",
       "Std. Errors:\n",
       " based on Hessian \n",
       "\n",
       "Error Analysis:\n",
       "        Estimate  Std. Error  t value Pr(>|t|)    \n",
       "omega  1.340e-02   1.860e-03    7.208 5.68e-13 ***\n",
       "alpha1 4.586e-02   1.160e-02    3.955 7.66e-05 ***\n",
       "alpha2 2.579e-02   1.532e-02    1.683   0.0923 .  \n",
       "alpha3 1.000e-08   2.043e-02    0.000   1.0000    \n",
       "alpha4 1.000e-08   1.735e-02    0.000   1.0000    \n",
       "beta1  9.145e-01   6.801e-03  134.472  < 2e-16 ***\n",
       "---\n",
       "Signif. codes:  0 '***' 0.001 '**' 0.01 '*' 0.05 '.' 0.1 ' ' 1\n",
       "\n",
       "Log Likelihood:\n",
       " -6969.51    normalized:  -1.227891 \n",
       "\n",
       "Description:\n",
       " Thu Jul 05 09:39:33 2018 by user: fanj5 \n"
      ]
     },
     "metadata": {},
     "output_type": "display_data"
    },
    {
     "data": {
      "text/plain": [
       "\n",
       "Title:\n",
       " GARCH Modelling \n",
       "\n",
       "Call:\n",
       " garchFit(formula = ~garch(1, 1), data = y, cond.dist = \"std\", \n",
       "    include.mean = FALSE, trace = F) \n",
       "\n",
       "Mean and Variance Equation:\n",
       " data ~ garch(1, 1)\n",
       "<environment: 0x0000000026709118>\n",
       " [data = y]\n",
       "\n",
       "Conditional Distribution:\n",
       " std \n",
       "\n",
       "Coefficient(s):\n",
       "   omega    alpha1     beta1     shape  \n",
       "0.017738  0.080087  0.903693  3.915327  \n",
       "\n",
       "Std. Errors:\n",
       " based on Hessian \n",
       "\n",
       "Error Analysis:\n",
       "        Estimate  Std. Error  t value Pr(>|t|)    \n",
       "omega   0.017738    0.003114    5.697 1.22e-08 ***\n",
       "alpha1  0.080087    0.009024    8.875  < 2e-16 ***\n",
       "beta1   0.903693    0.009440   95.730  < 2e-16 ***\n",
       "shape   3.915327    0.215269   18.188  < 2e-16 ***\n",
       "---\n",
       "Signif. codes:  0 '***' 0.001 '**' 0.01 '*' 0.05 '.' 0.1 ' ' 1\n",
       "\n",
       "Log Likelihood:\n",
       " -6553.022    normalized:  -1.154514 \n",
       "\n",
       "Description:\n",
       " Thu Jul 05 09:39:33 2018 by user: fanj5 \n"
      ]
     },
     "metadata": {},
     "output_type": "display_data"
    }
   ],
   "source": [
    "# ARCH and GARCH estimation in R\n",
    "# Listing 2.1\n",
    "# Last updated June 2018\n",
    "#\n",
    "#\n",
    "\n",
    "library(tseries)\n",
    "\n",
    "p = zoo(read.csv('index.csv', header=TRUE, sep=','))\n",
    "y=diff(log(p))*100\n",
    "y=y-mean(y)\n",
    "\n",
    "## We multiply returns by 100 and de-mean them\n",
    "\n",
    "library(fGarch)\n",
    "\n",
    "garchFit(~ garch(1,0), data = y,include.mean=FALSE)\n",
    "garchFit(~ garch(4,0), data = y,include.mean=FALSE)\n",
    "garchFit(~ garch(4,1), data = y,include.mean=FALSE)\n",
    "garchFit(~ garch(1,1), data = y,include.mean=FALSE,cond.dist=\"std\",trace=F)\n",
    "res=garchFit(~ garch(1,1), data = y,include.mean=FALSE,cond.dist=\"sstd\",trace=F)\n",
    "## plot(res)  \n",
    "\n",
    "## plot(res) shows various graphical analysis, works in command line"
   ]
  },
  {
   "cell_type": "code",
   "execution_count": 19,
   "metadata": {
    "scrolled": true
   },
   "outputs": [
    {
     "name": "stdout",
     "output_type": "stream",
     "text": [
      "\n",
      "Title:\n",
      " GARCH Modelling \n",
      "\n",
      "Call:\n",
      " garchFit(formula = ~aparch(1, 1), data = y, include.mean = FALSE, \n",
      "    trace = F) \n",
      "\n",
      "Mean and Variance Equation:\n",
      " data ~ aparch(1, 1)\n",
      "<environment: 0x00000000256b9040>\n",
      " [data = y]\n",
      "\n",
      "Conditional Distribution:\n",
      " norm \n",
      "\n",
      "Coefficient(s):\n",
      "    omega     alpha1     gamma1      beta1      delta  \n",
      "0.0130295  0.0680740  0.0093648  0.9181769  2.0000000  \n",
      "\n",
      "Std. Errors:\n",
      " based on Hessian \n",
      "\n",
      "Error Analysis:\n",
      "        Estimate  Std. Error  t value Pr(>|t|)    \n",
      "omega   0.013029    0.001691    7.707 1.29e-14 ***\n",
      "alpha1  0.068074    0.007012    9.708  < 2e-16 ***\n",
      "gamma1  0.009365    0.031768    0.295    0.768    \n",
      "beta1   0.918177    0.005419  169.436  < 2e-16 ***\n",
      "delta   2.000000    0.174164   11.483  < 2e-16 ***\n",
      "---\n",
      "Signif. codes:  0 '***' 0.001 '**' 0.01 '*' 0.05 '.' 0.1 ' ' 1\n",
      "\n",
      "Log Likelihood:\n",
      " -6970.276    normalized:  -1.228026 \n",
      "\n",
      "Description:\n",
      " Thu Jul 05 09:39:36 2018 by user: fanj5 \n",
      "\n",
      "\n",
      "Title:\n",
      " GARCH Modelling \n",
      "\n",
      "Call:\n",
      " garchFit(formula = ~aparch(1, 1), data = y, delta = 2, include.mean = FALSE, \n",
      "    include.delta = F, trace = F) \n",
      "\n",
      "Mean and Variance Equation:\n",
      " data ~ aparch(1, 1)\n",
      "<environment: 0x0000000028066d38>\n",
      " [data = y]\n",
      "\n",
      "Conditional Distribution:\n",
      " norm \n",
      "\n",
      "Coefficient(s):\n",
      "    omega     alpha1     gamma1      beta1  \n",
      "0.0130295  0.0680740  0.0093648  0.9181769  \n",
      "\n",
      "Std. Errors:\n",
      " based on Hessian \n",
      "\n",
      "Error Analysis:\n",
      "        Estimate  Std. Error  t value Pr(>|t|)    \n",
      "omega   0.013029    0.001682    7.748 9.33e-15 ***\n",
      "alpha1  0.068074    0.005103   13.340  < 2e-16 ***\n",
      "gamma1  0.009365    0.031726    0.295    0.768    \n",
      "beta1   0.918177    0.005302  173.182  < 2e-16 ***\n",
      "---\n",
      "Signif. codes:  0 '***' 0.001 '**' 0.01 '*' 0.05 '.' 0.1 ' ' 1\n",
      "\n",
      "Log Likelihood:\n",
      " -6970.276    normalized:  -1.228026 \n",
      "\n",
      "Description:\n",
      " Thu Jul 05 09:39:36 2018 by user: fanj5 \n",
      "\n",
      "\n",
      "Title:\n",
      " GARCH Modelling \n",
      "\n",
      "Call:\n",
      " garchFit(formula = ~aparch(1, 1), data = y, cond.dist = \"std\", \n",
      "    include.mean = FALSE, trace = F) \n",
      "\n",
      "Mean and Variance Equation:\n",
      " data ~ aparch(1, 1)\n",
      "<environment: 0x0000000027fcd1e0>\n",
      " [data = y]\n",
      "\n",
      "Conditional Distribution:\n",
      " std \n",
      "\n",
      "Coefficient(s):\n",
      "    omega     alpha1     gamma1      beta1      delta      shape  \n",
      " 0.017701   0.079995  -0.049126   0.903756   2.000000   3.912207  \n",
      "\n",
      "Std. Errors:\n",
      " based on Hessian \n",
      "\n",
      "Error Analysis:\n",
      "        Estimate  Std. Error  t value Pr(>|t|)    \n",
      "omega   0.017701    0.003124    5.667 1.45e-08 ***\n",
      "alpha1  0.079995    0.011125    7.191 6.45e-13 ***\n",
      "gamma1 -0.049126    0.042062   -1.168    0.243    \n",
      "beta1   0.903756    0.009674   93.421  < 2e-16 ***\n",
      "delta   2.000000    0.222578    8.986  < 2e-16 ***\n",
      "shape   3.912207    0.214974   18.198  < 2e-16 ***\n",
      "---\n",
      "Signif. codes:  0 '***' 0.001 '**' 0.01 '*' 0.05 '.' 0.1 ' ' 1\n",
      "\n",
      "Log Likelihood:\n",
      " -6552.334    normalized:  -1.154393 \n",
      "\n",
      "Description:\n",
      " Thu Jul 05 09:39:37 2018 by user: fanj5 \n",
      "\n",
      "\n",
      "Title:\n",
      " GARCH Modelling \n",
      "\n",
      "Call:\n",
      " garchFit(formula = ~aparch(2, 2), data = y, include.mean = FALSE, \n",
      "    trace = F) \n",
      "\n",
      "Mean and Variance Equation:\n",
      " data ~ aparch(2, 2)\n",
      "<environment: 0x00000000281219a8>\n",
      " [data = y]\n",
      "\n",
      "Conditional Distribution:\n",
      " norm \n",
      "\n",
      "Coefficient(s):\n",
      "    omega     alpha1     alpha2     gamma1     gamma2      beta1      beta2  \n",
      " 0.024472   0.052137   0.077632   0.135524  -0.086024   0.017708   0.825545  \n",
      "    delta  \n",
      " 2.000000  \n",
      "\n",
      "Std. Errors:\n",
      " based on Hessian \n",
      "\n",
      "Error Analysis:\n",
      "        Estimate  Std. Error  t value Pr(>|t|)    \n",
      "omega   0.024472    0.003233    7.570 3.73e-14 ***\n",
      "alpha1  0.052137    0.008303    6.280 3.39e-10 ***\n",
      "alpha2  0.077632    0.009063    8.566  < 2e-16 ***\n",
      "gamma1  0.135524    0.063229    2.143   0.0321 *  \n",
      "gamma2 -0.086024    0.047027   -1.829   0.0674 .  \n",
      "beta1   0.017708    0.026265    0.674   0.5002    \n",
      "beta2   0.825545    0.025758   32.050  < 2e-16 ***\n",
      "delta   2.000000    0.175473   11.398  < 2e-16 ***\n",
      "---\n",
      "Signif. codes:  0 '***' 0.001 '**' 0.01 '*' 0.05 '.' 0.1 ' ' 1\n",
      "\n",
      "Log Likelihood:\n",
      " -6961.148    normalized:  -1.226418 \n",
      "\n",
      "Description:\n",
      " Thu Jul 05 09:39:39 2018 by user: fanj5 \n",
      "\n"
     ]
    }
   ],
   "source": [
    "# Advanced ARCH and GARCH estimation in R\n",
    "# Listing 2.3\n",
    "# Last updated June 2018\n",
    "#\n",
    "#\n",
    "\n",
    "## normal APARCH(1,1)\n",
    "print(garchFit(~ aparch(1,1),data=y,include.mean=FALSE,trace=F)) \n",
    "## fixing delta at 2 (or to any value)\n",
    "print(garchFit(~ aparch(1,1),data=y,include.mean=FALSE,trace=F,include.delta=F,delta=2))\n",
    "## Student-t conditional distribution\n",
    "print(garchFit(~ aparch(1,1),data=y,include.mean=FALSE,cond.dist=\"std\",trace=F))\n",
    "## normal APARCH(2,2)\n",
    "print(garchFit(~ aparch(2,2),data=y,include.mean=FALSE,trace=F))"
   ]
  },
  {
   "cell_type": "markdown",
   "metadata": {},
   "source": [
    "# Chapter 3: Multivariate Volatility Models\n",
    "\n",
    "-  3.1: Loading hypothetical stock prices\n",
    "-  3.3: EWMA estimation\n",
    "-  3.5: OGARCH estimation\n",
    "-  3.7: DCC estimation\n",
    "-  3.9: Comparison of EWMA, OGARCH, DCC"
   ]
  },
  {
   "cell_type": "code",
   "execution_count": 20,
   "metadata": {
    "scrolled": false
   },
   "outputs": [],
   "source": [
    "# Download stock prices in R\n",
    "# Listing 3.1\n",
    "# Last updated 2011\n",
    "#\n",
    "#\n",
    "\n",
    "library(tseries)\n",
    "library(zoo)\n",
    "\n",
    "p = zoo(read.csv('stocks.csv',header=TRUE,sep=','))\n",
    "y = diff(log(p))*100       # calculate returns\n",
    "y = y[,1:2]                # consider first two stocks\n",
    "y[,1] = y[,1]-mean(y[,1])  # subtract mean\n",
    "y[,2] = y[,2]-mean(y[,2])\n",
    "TT = length(y[,1])"
   ]
  },
  {
   "cell_type": "code",
   "execution_count": 21,
   "metadata": {
    "scrolled": false
   },
   "outputs": [
    {
     "name": "stdout",
     "output_type": "stream",
     "text": [
      "[1] 0.2296842 0.2236347 0.2218277 0.2270681 0.2054204 0.1992979\n",
      "[1] 0.1931994 0.1914987 0.2177147 0.3436632 0.3122741 0.3159703\n"
     ]
    }
   ],
   "source": [
    "# EWMA in R\n",
    "# Listing 3.3\n",
    "# Last updated August 2016\n",
    "#\n",
    "#\n",
    "\n",
    "## create a matrix to hold covariance matrix for each t\n",
    "EWMA = matrix(nrow=TT,ncol=3)   \n",
    "lambda = 0.94\n",
    "S = cov(y)                      # initial (t=1) covar matrix\n",
    "EWMA[1,] = c(S)[c(1,4,2)]       # extract var and covar\n",
    "for (i in 2:TT){                # loop though sample\n",
    "  S = lambda*S+(1-lambda)*t(y[i-1]) %*% y[i-1]\n",
    "  EWMA[i,] = c(S)[c(1,4,2)]     # convert matrix to vector\n",
    "}\n",
    "EWMArho = EWMA[,3]/sqrt(EWMA[,1]*EWMA[,2]) # calculate correlations\n",
    "\n",
    "print(head(EWMArho))\n",
    "print(tail(EWMArho))"
   ]
  },
  {
   "cell_type": "code",
   "execution_count": 22,
   "metadata": {
    "scrolled": false
   },
   "outputs": [
    {
     "name": "stdout",
     "output_type": "stream",
     "text": [
      "\n",
      "Series Initialization:\n",
      " ARMA Model:                arma\n",
      " Formula Mean:              ~ arma(0, 0)\n",
      " GARCH Model:               garch\n",
      " Formula Variance:          ~ garch(1, 1)\n",
      " ARMA Order:                0 0\n",
      " Max ARMA Order:            0\n",
      " GARCH Order:               1 1\n",
      " Max GARCH Order:           1\n",
      " Maximum Order:             1\n",
      " Conditional Dist:          norm\n",
      " h.start:                   2\n",
      " llh.start:                 1\n",
      " Length of Series:          5676\n",
      " Recursion Init:            mci\n",
      " Series Scale:              1.547394\n",
      "\n",
      "Parameter Initialization:\n",
      " Initial Parameters:          $params\n",
      " Limits of Transformations:   $U, $V\n",
      " Which Parameters are Fixed?  $includes\n",
      " Parameter Matrix:\n",
      "                       U            V params includes\n",
      "    mu     -2.439722e-17 2.439722e-17    0.0    FALSE\n",
      "    omega   1.000000e-06 1.000000e+02    0.1     TRUE\n",
      "    alpha1  1.000000e-08 1.000000e+00    0.1     TRUE\n",
      "    gamma1 -1.000000e+00 1.000000e+00    0.1    FALSE\n",
      "    beta1   1.000000e-08 1.000000e+00    0.8     TRUE\n",
      "    delta   0.000000e+00 2.000000e+00    2.0    FALSE\n",
      "    skew    1.000000e-01 1.000000e+01    1.0    FALSE\n",
      "    shape   1.000000e+00 1.000000e+01    4.0    FALSE\n",
      " Index List of Parameters to be Optimized:\n",
      " omega alpha1  beta1 \n",
      "     2      3      5 \n",
      " Persistence:                  0.9 \n",
      "\n",
      "\n",
      "--- START OF TRACE ---\n",
      "Selected Algorithm: nlminb \n",
      "\n",
      "R coded nlminb Solver: \n",
      "\n",
      "  0:     7393.4892: 0.100000 0.100000 0.800000\n",
      "  1:     7364.9333: 0.0802870 0.100889 0.792813\n",
      "  2:     7346.9932: 0.0795836 0.117628 0.805476\n",
      "  3:     7320.7182: 0.0413427 0.134220 0.810628\n",
      "  4:     7297.6203: 0.0319357 0.144959 0.850130\n",
      "  5:     7284.2779: 0.0102203 0.122183 0.877949\n",
      "  6:     7267.8310: 0.0229799 0.0850686 0.892913\n",
      "  7:     7264.0194: 0.0169243 0.0805932 0.903181\n",
      "  8:     7263.7889: 0.0170454 0.0811654 0.903696\n",
      "  9:     7263.6098: 0.0162854 0.0813359 0.903675\n",
      " 10:     7263.2540: 0.0158868 0.0824043 0.904737\n",
      " 11:     7263.1311: 0.0145454 0.0827109 0.905213\n",
      " 12:     7263.0026: 0.0144282 0.0841015 0.905627\n",
      " 13:     7262.9868: 0.0143677 0.0850087 0.904490\n",
      " 14:     7262.9733: 0.0141706 0.0840692 0.905585\n",
      " 15:     7262.9719: 0.0142217 0.0840637 0.905592\n",
      " 16:     7262.9709: 0.0142221 0.0840239 0.905559\n",
      " 17:     7262.9696: 0.0143067 0.0839640 0.905561\n",
      " 18:     7262.9680: 0.0143265 0.0837575 0.905560\n",
      " 19:     7262.9676: 0.0143912 0.0837203 0.905575\n",
      " 20:     7262.9674: 0.0143877 0.0837633 0.905512\n",
      " 21:     7262.9674: 0.0143685 0.0837264 0.905576\n",
      " 22:     7262.9674: 0.0143667 0.0837263 0.905575\n",
      " 23:     7262.9674: 0.0143664 0.0837281 0.905576\n",
      " 24:     7262.9674: 0.0143648 0.0837308 0.905573\n",
      " 25:     7262.9674: 0.0143662 0.0837371 0.905569\n",
      " 26:     7262.9674: 0.0143658 0.0837426 0.905564\n",
      " 27:     7262.9674: 0.0143671 0.0837484 0.905559\n",
      " 28:     7262.9674: 0.0143666 0.0837547 0.905555\n",
      "\n",
      "Final Estimate of the Negative LLH:\n",
      " LLH:  9740.953    norm LLH:  1.716165 \n",
      "     omega     alpha1      beta1 \n",
      "0.03439978 0.08375471 0.90555469 \n",
      "\n",
      "R-optimhess Difference Approximated Hessian Matrix:\n",
      "           omega    alpha1     beta1\n",
      "omega  -173150.4 -166036.7 -232496.3\n",
      "alpha1 -166036.7 -238336.3 -287552.1\n",
      "beta1  -232496.3 -287552.1 -381827.4\n",
      "attr(,\"time\")\n",
      "Time difference of 0.0467999 secs\n",
      "\n",
      "--- END OF TRACE ---\n",
      "\n",
      "\n",
      "Time to Estimate Parameters:\n",
      " Time difference of 0.2278039 secs\n",
      "\n",
      "Series Initialization:\n",
      " ARMA Model:                arma\n",
      " Formula Mean:              ~ arma(0, 0)\n",
      " GARCH Model:               garch\n",
      " Formula Variance:          ~ garch(1, 1)\n",
      " ARMA Order:                0 0\n",
      " Max ARMA Order:            0\n",
      " GARCH Order:               1 1\n",
      " Max GARCH Order:           1\n",
      " Maximum Order:             1\n",
      " Conditional Dist:          norm\n",
      " h.start:                   2\n",
      " llh.start:                 1\n",
      " Length of Series:          5676\n",
      " Recursion Init:            mci\n",
      " Series Scale:              0.6858406\n",
      "\n",
      "Parameter Initialization:\n",
      " Initial Parameters:          $params\n",
      " Limits of Transformations:   $U, $V\n",
      " Which Parameters are Fixed?  $includes\n",
      " Parameter Matrix:\n",
      "                       U            V params includes\n",
      "    mu     -1.655987e-16 1.655987e-16    0.0    FALSE\n",
      "    omega   1.000000e-06 1.000000e+02    0.1     TRUE\n",
      "    alpha1  1.000000e-08 1.000000e+00    0.1     TRUE\n",
      "    gamma1 -1.000000e+00 1.000000e+00    0.1    FALSE\n",
      "    beta1   1.000000e-08 1.000000e+00    0.8     TRUE\n",
      "    delta   0.000000e+00 2.000000e+00    2.0    FALSE\n",
      "    skew    1.000000e-01 1.000000e+01    1.0    FALSE\n",
      "    shape   1.000000e+00 1.000000e+01    4.0    FALSE\n",
      " Index List of Parameters to be Optimized:\n",
      " omega alpha1  beta1 \n",
      "     2      3      5 \n",
      " Persistence:                  0.9 \n",
      "\n",
      "\n",
      "--- START OF TRACE ---\n",
      "Selected Algorithm: nlminb \n",
      "\n",
      "R coded nlminb Solver: \n",
      "\n",
      "  0:     7726.4137: 0.100000 0.100000 0.800000\n",
      "  1:     7723.8794: 0.0906770 0.100520 0.798530\n",
      "  2:     7718.9199: 0.0891274 0.107164 0.805072\n",
      "  3:     7713.0819: 0.0720842 0.112085 0.811607\n",
      "  4:     7706.4786: 0.0658297 0.111360 0.829433\n",
      "  5:     7684.6097: 0.0378448 0.0838036 0.877905\n",
      "  6:     7684.2959: 0.0382310 0.0843933 0.879704\n",
      "  7:     7683.5786: 0.0367551 0.0832955 0.880296\n",
      "  8:     7682.5696: 0.0359287 0.0823578 0.883954\n",
      "  9:     7675.4374: 0.0206631 0.0506046 0.924824\n",
      " 10:     7673.3568: 0.0214452 0.0516721 0.925768\n",
      " 11:     7672.6524: 0.0199881 0.0523910 0.925716\n",
      " 12:     7671.7780: 0.0186696 0.0533260 0.928537\n",
      " 13:     7671.1465: 0.0160009 0.0529029 0.930345\n",
      " 14:     7671.0670: 0.0145833 0.0531701 0.933259\n",
      " 15:     7670.8302: 0.0159000 0.0540306 0.930414\n",
      " 16:     7670.8224: 0.0158115 0.0540359 0.930366\n",
      " 17:     7670.8165: 0.0158024 0.0541325 0.930393\n",
      " 18:     7670.8084: 0.0156532 0.0542460 0.930319\n",
      " 19:     7670.7937: 0.0157768 0.0545448 0.930079\n",
      " 20:     7670.7867: 0.0158345 0.0547361 0.929730\n",
      " 21:     7670.7809: 0.0154072 0.0554146 0.929803\n",
      " 22:     7670.7702: 0.0156861 0.0557233 0.929113\n",
      " 23:     7670.7695: 0.0157151 0.0557291 0.929124\n",
      " 24:     7670.7692: 0.0157205 0.0557051 0.929104\n",
      " 25:     7670.7687: 0.0157561 0.0557378 0.929063\n",
      " 26:     7670.7684: 0.0157897 0.0557860 0.928951\n",
      " 27:     7670.7680: 0.0158141 0.0555765 0.929092\n",
      " 28:     7670.7678: 0.0159295 0.0556890 0.928896\n",
      " 29:     7670.7675: 0.0158873 0.0557155 0.928905\n",
      " 30:     7670.7675: 0.0158853 0.0557144 0.928909\n",
      "\n",
      "Final Estimate of the Negative LLH:\n",
      " LLH:  5530.291    norm LLH:  0.9743289 \n",
      "      omega      alpha1       beta1 \n",
      "0.007472065 0.055714424 0.928909435 \n",
      "\n",
      "R-optimhess Difference Approximated Hessian Matrix:\n",
      "          omega     alpha1      beta1\n",
      "omega  -4697942 -1293992.1 -1618070.3\n",
      "alpha1 -1293992  -480773.6  -527839.5\n",
      "beta1  -1618070  -527839.5  -632527.7\n",
      "attr(,\"time\")\n",
      "Time difference of 0.04680109 secs\n",
      "\n",
      "--- END OF TRACE ---\n",
      "\n",
      "\n",
      "Time to Estimate Parameters:\n",
      " Time difference of 0.226804 secs\n"
     ]
    }
   ],
   "source": [
    "# OGARCH in R\n",
    "# Listing 3.5\n",
    "# Last updated 2011\n",
    "#\n",
    "#\n",
    "\n",
    "library(gogarch, quietly = TRUE)\n",
    "\n",
    "res = gogarch(y,formula = ~garch(1,1),garchlist = c(include.mean=FALSE))\n",
    "OOrho = ccor(res)\n",
    "\n",
    "## OOrho is a vector of correlations"
   ]
  },
  {
   "cell_type": "code",
   "execution_count": 23,
   "metadata": {
    "scrolled": false
   },
   "outputs": [
    {
     "name": "stdout",
     "output_type": "stream",
     "text": [
      "\n",
      "Series Initialization:\n",
      " ARMA Model:                arma\n",
      " Formula Mean:              ~ arma(0, 0)\n",
      " GARCH Model:               garch\n",
      " Formula Variance:          ~ garch(1, 1)\n",
      " ARMA Order:                0 0\n",
      " Max ARMA Order:            0\n",
      " GARCH Order:               1 1\n",
      " Max GARCH Order:           1\n",
      " Maximum Order:             1\n",
      " Conditional Dist:          norm\n",
      " h.start:                   2\n",
      " llh.start:                 1\n",
      " Length of Series:          5676\n",
      " Recursion Init:            mci\n",
      " Series Scale:              0.6426198\n",
      "\n",
      "Parameter Initialization:\n",
      " Initial Parameters:          $params\n",
      " Limits of Transformations:   $U, $V\n",
      " Which Parameters are Fixed?  $includes\n",
      " Parameter Matrix:\n",
      "                       U            V params includes\n",
      "    mu     -1.669935e-16 1.669935e-16    0.0    FALSE\n",
      "    omega   1.000000e-06 1.000000e+02    0.1     TRUE\n",
      "    alpha1  1.000000e-08 1.000000e+00    0.1     TRUE\n",
      "    gamma1 -1.000000e+00 1.000000e+00    0.1    FALSE\n",
      "    beta1   1.000000e-08 1.000000e+00    0.8     TRUE\n",
      "    delta   0.000000e+00 2.000000e+00    2.0    FALSE\n",
      "    skew    1.000000e-01 1.000000e+01    1.0    FALSE\n",
      "    shape   1.000000e+00 1.000000e+01    4.0    FALSE\n",
      " Index List of Parameters to be Optimized:\n",
      " omega alpha1  beta1 \n",
      "     2      3      5 \n",
      " Persistence:                  0.9 \n",
      "\n",
      "\n",
      "--- START OF TRACE ---\n",
      "Selected Algorithm: nlminb \n",
      "\n",
      "R coded nlminb Solver: \n",
      "\n",
      "  0:     7785.0138: 0.100000 0.100000 0.800000\n",
      "  1:     7782.7078: 0.0911728 0.100995 0.801500\n",
      "  2:     7778.9615: 0.0886434 0.105868 0.808642\n",
      "  3:     7773.6590: 0.0729607 0.108289 0.817176\n",
      "  4:     7767.9361: 0.0661686 0.106552 0.833774\n",
      "  5:     7752.5835: 0.0449532 0.0815642 0.871867\n",
      "  6:     7749.6566: 0.0379184 0.0820200 0.884751\n",
      "  7:     7748.6911: 0.0267339 0.0792960 0.893871\n",
      "  8:     7743.7402: 0.0287565 0.0687111 0.903849\n",
      "  9:     7743.5044: 0.0274129 0.0646857 0.906726\n",
      " 10:     7742.7252: 0.0255079 0.0638911 0.911419\n",
      " 11:     7742.6496: 0.0225478 0.0622858 0.915285\n",
      " 12:     7742.5207: 0.0231552 0.0585416 0.918734\n",
      " 13:     7742.5193: 0.0227706 0.0583703 0.918441\n",
      " 14:     7742.4685: 0.0229251 0.0585204 0.918580\n",
      " 15:     7742.4524: 0.0226959 0.0589777 0.918545\n",
      " 16:     7742.4512: 0.0226569 0.0589680 0.918503\n",
      " 17:     7742.4501: 0.0226838 0.0590145 0.918481\n",
      " 18:     7742.4484: 0.0226899 0.0590679 0.918378\n",
      " 19:     7742.4451: 0.0227854 0.0592013 0.918214\n",
      " 20:     7742.4411: 0.0229070 0.0593988 0.917811\n",
      " 21:     7742.4381: 0.0230717 0.0596895 0.917488\n",
      " 22:     7742.4367: 0.0229720 0.0598279 0.917437\n",
      " 23:     7742.4364: 0.0230546 0.0598621 0.917283\n",
      " 24:     7742.4362: 0.0230995 0.0599810 0.917158\n",
      " 25:     7742.4362: 0.0230828 0.0599360 0.917211\n",
      " 26:     7742.4362: 0.0230828 0.0599363 0.917210\n",
      "\n",
      "Final Estimate of the Negative LLH:\n",
      " LLH:  5232.497    norm LLH:  0.9218635 \n",
      "     omega     alpha1      beta1 \n",
      "0.00953228 0.05993628 0.91721034 \n",
      "\n",
      "R-optimhess Difference Approximated Hessian Matrix:\n",
      "          omega     alpha1      beta1\n",
      "omega  -4089457 -1029107.8 -1299358.6\n",
      "alpha1 -1029108  -357736.4  -387217.8\n",
      "beta1  -1299359  -387217.8  -465578.8\n",
      "attr(,\"time\")\n",
      "Time difference of 0.0322001 secs\n",
      "\n",
      "--- END OF TRACE ---\n",
      "\n",
      "\n",
      "Time to Estimate Parameters:\n",
      " Time difference of 0.2128019 secs\n",
      "\n",
      "Series Initialization:\n",
      " ARMA Model:                arma\n",
      " Formula Mean:              ~ arma(0, 0)\n",
      " GARCH Model:               garch\n",
      " Formula Variance:          ~ garch(1, 1)\n",
      " ARMA Order:                0 0\n",
      " Max ARMA Order:            0\n",
      " GARCH Order:               1 1\n",
      " Max GARCH Order:           1\n",
      " Maximum Order:             1\n",
      " Conditional Dist:          norm\n",
      " h.start:                   2\n",
      " llh.start:                 1\n",
      " Length of Series:          5676\n",
      " Recursion Init:            mci\n",
      " Series Scale:              0.9482962\n",
      "\n",
      "Parameter Initialization:\n",
      " Initial Parameters:          $params\n",
      " Limits of Transformations:   $U, $V\n",
      " Which Parameters are Fixed?  $includes\n",
      " Parameter Matrix:\n",
      "                       U            V params includes\n",
      "    mu     -1.405184e-17 1.405184e-17    0.0    FALSE\n",
      "    omega   1.000000e-06 1.000000e+02    0.1     TRUE\n",
      "    alpha1  1.000000e-08 1.000000e+00    0.1     TRUE\n",
      "    gamma1 -1.000000e+00 1.000000e+00    0.1    FALSE\n",
      "    beta1   1.000000e-08 1.000000e+00    0.8     TRUE\n",
      "    delta   0.000000e+00 2.000000e+00    2.0    FALSE\n",
      "    skew    1.000000e-01 1.000000e+01    1.0    FALSE\n",
      "    shape   1.000000e+00 1.000000e+01    4.0    FALSE\n",
      " Index List of Parameters to be Optimized:\n",
      " omega alpha1  beta1 \n",
      "     2      3      5 \n",
      " Persistence:                  0.9 \n",
      "\n",
      "\n",
      "--- START OF TRACE ---\n",
      "Selected Algorithm: nlminb \n",
      "\n",
      "R coded nlminb Solver: \n",
      "\n",
      "  0:     7308.8679: 0.100000 0.100000 0.800000\n",
      "  1:     7268.3526: 0.0784678 0.100994 0.791633\n",
      "  2:     7244.9928: 0.0766506 0.119819 0.804935\n",
      "  3:     7228.3507: 0.0342297 0.137620 0.809635\n",
      "  4:     7200.9599: 0.0287924 0.156200 0.851632\n",
      "  5:     7172.8137: 0.00853985 0.126221 0.880435\n",
      "  6:     7159.9675: 0.0214295 0.109813 0.877659\n",
      "  7:     7159.9243: 0.0176985 0.0921549 0.888492\n",
      "  8:     7157.1129: 0.0177346 0.0882042 0.898246\n",
      "  9:     7156.1513: 0.0112938 0.0869484 0.906475\n",
      " 10:     7155.8125: 0.0136246 0.0945070 0.899532\n",
      " 11:     7155.6586: 0.0136505 0.0961369 0.895966\n",
      " 12:     7155.2713: 0.0141273 0.0930951 0.898394\n",
      " 13:     7155.2709: 0.0139671 0.0919137 0.898938\n",
      " 14:     7155.2341: 0.0141919 0.0915743 0.899452\n",
      " 15:     7155.2259: 0.0142920 0.0909305 0.899522\n",
      " 16:     7155.2252: 0.0142645 0.0909255 0.899624\n",
      " 17:     7155.2250: 0.0142567 0.0909970 0.899547\n",
      " 18:     7155.2249: 0.0142851 0.0910750 0.899481\n",
      " 19:     7155.2247: 0.0142181 0.0911105 0.899555\n",
      " 20:     7155.2247: 0.0142468 0.0911595 0.899466\n",
      " 21:     7155.2247: 0.0142497 0.0911605 0.899468\n",
      " 22:     7155.2247: 0.0142487 0.0911571 0.899468\n",
      " 23:     7155.2247: 0.0142460 0.0911550 0.899475\n",
      " 24:     7155.2247: 0.0142483 0.0911483 0.899476\n",
      " 25:     7155.2247: 0.0142463 0.0911444 0.899481\n",
      " 26:     7155.2247: 0.0142465 0.0911447 0.899482\n",
      " 27:     7155.2247: 0.0142462 0.0911446 0.899482\n",
      " 28:     7155.2247: 0.0142458 0.0911447 0.899482\n",
      " 29:     7155.2247: 0.0142452 0.0911400 0.899487\n",
      " 30:     7155.2247: 0.0142444 0.0911405 0.899488\n",
      "\n",
      "Final Estimate of the Negative LLH:\n",
      " LLH:  6853.895    norm LLH:  1.207522 \n",
      "     omega     alpha1      beta1 \n",
      "0.01280948 0.09114050 0.89948793 \n",
      "\n",
      "R-optimhess Difference Approximated Hessian Matrix:\n",
      "            omega    alpha1     beta1\n",
      "omega  -1229502.2 -404258.1 -584098.8\n",
      "alpha1  -404258.1 -203252.1 -251079.7\n",
      "beta1   -584098.8 -251079.7 -343472.3\n",
      "attr(,\"time\")\n",
      "Time difference of 0.01659989 secs\n",
      "\n",
      "--- END OF TRACE ---\n",
      "\n",
      "\n",
      "Time to Estimate Parameters:\n",
      " Time difference of 0.2506089 secs\n",
      "****************************************************************\n",
      "*  Estimation has been completed.                              *\n",
      "*  The outputs are saved in a list with components:            *\n",
      "*    out    : the estimates and their standard errors          *\n",
      "*    loglik : the value of the log-likelihood at the estimates *\n",
      "*    h      : a matrix of estimated conditional variances      *\n",
      "*    DCC    : a matrix of DCC estimates                        *\n",
      "*    std.resid : a matrix of the standardised residuals        *\n",
      "*    first  : the results of the first stage estimation        *\n",
      "*    second : the results of the second stage estimation       *\n",
      "****************************************************************\n"
     ]
    }
   ],
   "source": [
    "# DCC in R\n",
    "# Listing 3.7\n",
    "# Last updated 2011\n",
    "#\n",
    "#\n",
    "\n",
    "library(ccgarch)  \n",
    "\n",
    "## estimate univariate GARCH models to get starting values\n",
    "\n",
    "f1 = garchFit(~ garch(1,1), data=y[,1],include.mean=FALSE)\n",
    "f1 = f1@fit$coef\n",
    "f2 = garchFit(~ garch(1,1), data=y[,2],include.mean=FALSE)\n",
    "f2 = f2@fit$coef\n",
    "\n",
    "## create vectors and matrices of starting values \n",
    "a = c(f1[1], f2[1])\n",
    "A = diag(c(f1[2],f2[2]))\n",
    "B = diag(c(f1[3], f2[3])) \n",
    "dccpara = c(0.2,0.6) \n",
    "\n",
    "## estimate the model\n",
    "dccresults=dcc.estimation(inia=a,iniA=A,iniB=B,ini.dcc=dccpara,dvar=y,model=\"diagonal\")\n",
    "\n",
    "## Parameter estimates and their robust standard errors in dcc.results$out\n",
    "DCCrho = dccresults$DCC[,2]"
   ]
  },
  {
   "cell_type": "code",
   "execution_count": 24,
   "metadata": {
    "scrolled": false
   },
   "outputs": [
    {
     "data": {
      "image/png": "[encoded data removed]",
      "text/plain": [
       "plot without title"
      ]
     },
     "metadata": {},
     "output_type": "display_data"
    }
   ],
   "source": [
    "# Sample statistics in R\n",
    "# Listing 3.9\n",
    "# Last updated 2011\n",
    "#\n",
    "#\n",
    "\n",
    "matplot(cbind(EWMArho,DCCrho,OOrho),type='l',las=1,lty=1:3,col=1:3,ylab=\"\")\n",
    "mtext(\"Correlations\",side=2,line=0.3,at=1,las=1,cex=0.8)\n",
    "legend(2100,0,c(\"EWMA\",\"DCC\",\"OO\"),lty=1:3,col=1:3,bty=\"n\",cex=0.7)"
   ]
  },
  {
   "cell_type": "markdown",
   "metadata": {},
   "source": [
    "# Chapter 4: Risk Measures\n",
    "\n",
    "-  4.1: Expected Shortfall (ES) estimation under normality assumption"
   ]
  },
  {
   "cell_type": "code",
   "execution_count": 25,
   "metadata": {
    "scrolled": false
   },
   "outputs": [
    {
     "name": "stdout",
     "output_type": "stream",
     "text": [
      "[1] 0.7978846 1.7549833 2.0627128 2.3378028 2.6652142 3.3670901\n"
     ]
    }
   ],
   "source": [
    "# ES in R\n",
    "# Listing 4.1\n",
    "# Last updated August 2016\n",
    "#\n",
    "#\n",
    "\n",
    "p = c(0.5,0.1,0.05,0.025,0.01,0.001)\n",
    "VaR = -qnorm(p)\n",
    "ES = dnorm(qnorm(p))/p\n",
    "\n",
    "print(ES)"
   ]
  },
  {
   "cell_type": "markdown",
   "metadata": {},
   "source": [
    "# Chapter 5: Implementing Risk Forecasts\n",
    "\n",
    "-  5.1: Loading hypothetical stock prices, converting to returns\n",
    "-  5.3: Univariate HS Value at Risk (VaR)\n",
    "-  5.5: Multivariate HS VaR\n",
    "-  5.7: Univariate ES VaR\n",
    "-  5.9: Normal VaR\n",
    "-  5.11: Portfolio Normal VaR\n",
    "-  5.13: Student-t VaR\n",
    "-  5.15: Normal ES VaR\n",
    "-  5.17: Direct Integration Normal ES VaR\n",
    "-  5.19: MA Normal VaR\n",
    "-  5.21: EWMA VaR\n",
    "-  5.23: Two-asset EWMA VaR\n",
    "-  5.25: GARCH(1,1) VaR"
   ]
  },
  {
   "cell_type": "code",
   "execution_count": 26,
   "metadata": {
    "scrolled": false
   },
   "outputs": [],
   "source": [
    "# Download stock prices in R\n",
    "# Listing 5.1\n",
    "# Last updated August 2016\n",
    "#\n",
    "#\n",
    "\n",
    "library(tseries)\n",
    "library(zoo)\n",
    "\n",
    "prices = zoo(read.csv('stocks.csv',header=TRUE,sep=','))\n",
    "## convert prices of first two stocks to returns and adjust length\n",
    "y1=tail(diff(log(coredata(prices[,1]))),4100)\n",
    "y2=tail(diff(log(coredata(prices[,2]))),4100)\n",
    "TT=length(y1)\n",
    "y=cbind(y1,y2)\n",
    "value = 1000 # portfolio value\n",
    "p = 0.01     # probability"
   ]
  },
  {
   "cell_type": "code",
   "execution_count": 27,
   "metadata": {
    "scrolled": false
   },
   "outputs": [
    {
     "name": "stdout",
     "output_type": "stream",
     "text": [
      "[1] 18.65861\n"
     ]
    }
   ],
   "source": [
    "# Univariate HS in R\n",
    "# Listing 5.3\n",
    "# Last updated August 2016\n",
    "#\n",
    "#\n",
    "\n",
    "ys = sort(y1) # sort returns\n",
    "op = TT*p     # p percent smallest\n",
    "VaR1 = -ys[op]*value\n",
    "\n",
    "print(VaR1)"
   ]
  },
  {
   "cell_type": "code",
   "execution_count": 28,
   "metadata": {
    "scrolled": false
   },
   "outputs": [
    {
     "name": "stdout",
     "output_type": "stream",
     "text": [
      "[1] 19.81446\n"
     ]
    }
   ],
   "source": [
    "# Multivariate HS in R\n",
    "# Listing 5.5\n",
    "# Last updated 2011\n",
    "#\n",
    "#\n",
    "\n",
    "w = matrix(c(0.3,0.7)) # vector of portfolio weights\n",
    "yp = y %*% w           # obtain portfolio returns\n",
    "yps = sort(yp)\n",
    "VaR2 = -yps[op]*value\n",
    "\n",
    "print(VaR2)"
   ]
  },
  {
   "cell_type": "code",
   "execution_count": 29,
   "metadata": {
    "scrolled": false
   },
   "outputs": [
    {
     "name": "stdout",
     "output_type": "stream",
     "text": [
      "[1] 23.87292\n"
     ]
    }
   ],
   "source": [
    "# Univariate ES in R\n",
    "# Listing 5.7\n",
    "# Last updated 2011\n",
    "#\n",
    "#\n",
    "\n",
    "ES1 = -mean(ys[1:op])*value\n",
    "\n",
    "print(ES1)"
   ]
  },
  {
   "cell_type": "code",
   "execution_count": 30,
   "metadata": {
    "scrolled": false
   },
   "outputs": [
    {
     "name": "stdout",
     "output_type": "stream",
     "text": [
      "[1] 15.588\n"
     ]
    }
   ],
   "source": [
    "# Normal VaR in R\n",
    "# Listing 5.9\n",
    "# Last updated 2011\n",
    "#\n",
    "#\n",
    "\n",
    "sigma = sd(y1) # estimate volatility\n",
    "VaR3 = -sigma * qnorm(p) * value\n",
    "\n",
    "print(VaR3)"
   ]
  },
  {
   "cell_type": "code",
   "execution_count": 31,
   "metadata": {
    "scrolled": false
   },
   "outputs": [
    {
     "name": "stdout",
     "output_type": "stream",
     "text": [
      "[1] 18.13829\n"
     ]
    }
   ],
   "source": [
    "# Portfolio normal VaR in R\n",
    "# Listing 5.11\n",
    "# Last updated 2011\n",
    "#\n",
    "#\n",
    "\n",
    "sigma = sqrt(t(w) %*% cov(y) %*% w)[1] # portfolio volatility\n",
    "## Note: the trailing [1] is to convert a single element matrix to float\n",
    "VaR4 = -sigma * qnorm(p)*value\n",
    "\n",
    "print(VaR4)"
   ]
  },
  {
   "cell_type": "code",
   "execution_count": 32,
   "metadata": {
    "scrolled": false
   },
   "outputs": [
    {
     "name": "stdout",
     "output_type": "stream",
     "text": [
      "   sigma \n",
      "17.88518 \n"
     ]
    }
   ],
   "source": [
    "# Student-t VaR in R\n",
    "# Listing 5.13\n",
    "# Last updated August 2016\n",
    "#\n",
    "#\n",
    "\n",
    "library(QRM)\n",
    "\n",
    "scy1=(y1)*100              # scale the returns \n",
    "res=fit.st(scy1) \n",
    "sigma1=res$par.ests[3]/100 # rescale the volatility\n",
    "nu=res$par.ests[1] \n",
    "VaR5 = - sigma1 * qt(df=nu,p=p) *  value\n",
    "\n",
    "print(VaR5)"
   ]
  },
  {
   "cell_type": "code",
   "execution_count": 33,
   "metadata": {
    "scrolled": false
   },
   "outputs": [
    {
     "name": "stdout",
     "output_type": "stream",
     "text": [
      "[1] 17.85862\n"
     ]
    }
   ],
   "source": [
    "# Normal ES in R\n",
    "# Listing 5.15\n",
    "# Last updated June 2018\n",
    "#\n",
    "#\n",
    "\n",
    "sigma = sd(y1)\n",
    "ES2 = sigma*dnorm(qnorm(p))/p * value\n",
    "\n",
    "print(ES2)"
   ]
  },
  {
   "cell_type": "code",
   "execution_count": 34,
   "metadata": {
    "scrolled": false
   },
   "outputs": [
    {
     "name": "stdout",
     "output_type": "stream",
     "text": [
      "[1] 17.85862\n"
     ]
    }
   ],
   "source": [
    "# Direct integration ES in R\n",
    "# Listing 5.17\n",
    "# Last updated 2011\n",
    "#\n",
    "#\n",
    "\n",
    "VaR = -qnorm(p)\n",
    "integrand = function(q){q*dnorm(q)}\n",
    "ES = -sigma*integrate(integrand,-Inf,-VaR)$value/p*value\n",
    "\n",
    "print(ES)"
   ]
  },
  {
   "cell_type": "code",
   "execution_count": 35,
   "metadata": {
    "scrolled": false
   },
   "outputs": [
    {
     "name": "stdout",
     "output_type": "stream",
     "text": [
      "[1] 16.0505\n",
      "[1] 16.1491\n",
      "[1] 18.85435\n",
      "[1] 18.88212\n",
      "[1] 16.23053\n",
      "[1] 16.16976\n"
     ]
    }
   ],
   "source": [
    "# MA normal VaR in R\n",
    "# Listing 5.19\n",
    "# Last updated June 2018\n",
    "#\n",
    "#\n",
    "\n",
    "WE=20\n",
    "for (t in seq(TT-5,TT)){\n",
    "  t1=t-WE+1\n",
    "  window= y1[t1:t] # estimation window\n",
    "  sigma=sd(window)\n",
    "  VaR6 = -sigma * qnorm(p) * value\n",
    "  print(VaR6)\n",
    "}"
   ]
  },
  {
   "cell_type": "code",
   "execution_count": 36,
   "metadata": {
    "scrolled": false
   },
   "outputs": [
    {
     "name": "stdout",
     "output_type": "stream",
     "text": [
      "[1] 16.75344\n"
     ]
    }
   ],
   "source": [
    "# EWMA VaR in R\n",
    "# Listing 5.21\n",
    "# Last updated August 2016\n",
    "#\n",
    "#\n",
    "\n",
    "lambda = 0.94;\n",
    "s11 = var(y1[1:30]); # initial variance\n",
    "for (t in 2:TT){ \n",
    "  s11 = lambda * s11  + (1-lambda) * y1[t-1]^2\n",
    "}\n",
    "VaR7 = -qnorm(p) * sqrt(s11) * value\n",
    "\n",
    "print(VaR7)"
   ]
  },
  {
   "cell_type": "code",
   "execution_count": 37,
   "metadata": {
    "scrolled": false
   },
   "outputs": [
    {
     "name": "stdout",
     "output_type": "stream",
     "text": [
      "[1] 20.50363\n"
     ]
    }
   ],
   "source": [
    "# Two-asset EWMA VaR in R\n",
    "# Listing 5.23\n",
    "# Last updated 2011\n",
    "#\n",
    "#\n",
    "\n",
    "s = cov(y)                        # initial covariance\n",
    "for (t in 2:TT){\n",
    "  s = lambda*s + (1-lambda)*y[t-1,] %*% t(y[t-1,])\n",
    "}\n",
    "sigma = sqrt(t(w) %*% s %*% w)[1] # portfolio vol\n",
    "## Note: [1] is to convert single element matrix to float\n",
    "VaR8 = -sigma * qnorm(p) * value\n",
    "\n",
    "print(VaR8)"
   ]
  },
  {
   "cell_type": "code",
   "execution_count": 38,
   "metadata": {
    "scrolled": false
   },
   "outputs": [
    {
     "name": "stdout",
     "output_type": "stream",
     "text": [
      "[1] 17.05734\n"
     ]
    }
   ],
   "source": [
    "# GARCH in R\n",
    "# Listing 5.25\n",
    "# Last updated 2011\n",
    "#\n",
    "#\n",
    "\n",
    "library(fGarch)\n",
    "\n",
    "g = garchFit(~garch(1,1),y1,include.mean=F,trace=F)\n",
    "\n",
    "omega = g@fit$matcoef[1,1]\n",
    "alpha = g@fit$matcoef[2,1]\n",
    "beta = g@fit$matcoef[3,1]\n",
    "sigma2 = omega + alpha*y[TT]^2 + beta*g@h.t[TT] # calc sigma2 for t+1\n",
    "VaR9 = -sqrt(sigma2) * qnorm(p) * value  \n",
    "\n",
    "print(VaR9)"
   ]
  },
  {
   "cell_type": "markdown",
   "metadata": {},
   "source": [
    "# Chapter 6: Analytical Value-at-Risk for Options and Bonds\n",
    "\n",
    "-  6.1: Black-Scholes function definition\n",
    "-  6.3: Black-Scholes option price calculation example"
   ]
  },
  {
   "cell_type": "code",
   "execution_count": 39,
   "metadata": {
    "scrolled": false
   },
   "outputs": [],
   "source": [
    "# Black-Scholes function in R\n",
    "# Listing 6.1\n",
    "# Last updated 2011\n",
    "#\n",
    "#\n",
    "\n",
    "bs = function(X, P, r, sigma, T){\n",
    "\td1 = (log(P/X) + (r + 0.5*sigma^2)*(T))/(sigma*sqrt(T))\n",
    "\td2 = d1 - sigma*sqrt(T)\n",
    "\n",
    "\tCall = P*pnorm(d1,mean=0,sd=1)-X*exp(-r*(T))*pnorm(d2,mean=0,sd=1)\n",
    "\tPut = X*exp(-r*(T))*pnorm(-d2,mean=0,sd=1)-P*pnorm(-d1,mean=0,sd=1)\n",
    "\n",
    "\tDelta.Call = pnorm(d1, mean = 0, sd = 1) \n",
    "\tDelta.Put = Delta.Call - 1\n",
    "\tGamma = dnorm(d1, mean = 0, sd = 1)/(P*sigma*sqrt(T))\n",
    "\n",
    "\treturn(list(Call=Call,Put=Put,Delta.Call=Delta.Call,Delta.Put=Delta.Put,Gamma=Gamma))\n",
    "}"
   ]
  },
  {
   "cell_type": "code",
   "execution_count": 40,
   "metadata": {
    "scrolled": false
   },
   "outputs": [
    {
     "name": "stdout",
     "output_type": "stream",
     "text": [
      "$Call\n",
      "[1] 13.49852\n",
      "\n",
      "$Put\n",
      "[1] 1.27641\n",
      "\n",
      "$Delta.Call\n",
      "[1] 0.8395228\n",
      "\n",
      "$Delta.Put\n",
      "[1] -0.1604772\n",
      "\n",
      "$Gamma\n",
      "[1] 0.01723826\n",
      "\n"
     ]
    }
   ],
   "source": [
    "# Black-Scholes in R\n",
    "# Listing 6.3\n",
    "# Last updated August 2016\n",
    "#\n",
    "#\n",
    "\n",
    "f=bs(90,100,0.05,0.2,0.5)\n",
    "\n",
    "print(f)"
   ]
  },
  {
   "cell_type": "markdown",
   "metadata": {},
   "source": [
    "# Chapter 7: Simulation Methods for VaR for Options and Bonds\n",
    "\n",
    "-  7.1: Plotting normal distribution transformation\n",
    "-  7.3: Random number generation from Uniform(0,1), Normal(0,1)\n",
    "-  7.5: Bond pricing using yield curve\n",
    "-  7.7: Yield curve simulations\n",
    "-  7.9: Bond price simulations\n",
    "-  7.11: Black-Scholes analytical pricing of call\n",
    "-  7.13: Black-Scholes Monte Carlo simulation pricing of call\n",
    "-  7.15: Option density plots\n",
    "-  7.17: VaR simulation of portfolio with only underlying\n",
    "-  7.19: VaR simulation of portfolio with only call\n",
    "-  7.21: VaR simulation of portfolio with call, put and underlying\n",
    "-  7.23: Simulated two-asset returns\n",
    "-  7.25: Two-asset portfolio VaR\n",
    "-  7.27: Two-asset portfolio VaR with a call"
   ]
  },
  {
   "cell_type": "code",
   "execution_count": 41,
   "metadata": {
    "scrolled": false
   },
   "outputs": [
    {
     "data": {
      "image/png": "[encoded data removed]",
      "text/plain": [
       "plot without title"
      ]
     },
     "metadata": {},
     "output_type": "display_data"
    }
   ],
   "source": [
    "# Transformation in R\n",
    "# Listing 7.1\n",
    "# Last updated 2011\n",
    "#\n",
    "#\n",
    "\n",
    "x=seq(-3,3,by=0.1)\n",
    "plot(x,pnorm(x),type=\"l\")"
   ]
  },
  {
   "cell_type": "code",
   "execution_count": 42,
   "metadata": {
    "scrolled": false
   },
   "outputs": [
    {
     "data": {
      "text/html": [
       "<ol class=list-inline>\n",
       "\t<li>0.0693609158042818</li>\n",
       "\t<li>0.817775198724121</li>\n",
       "\t<li>0.942621732363477</li>\n",
       "\t<li>0.269381876336411</li>\n",
       "\t<li>0.169348123250529</li>\n",
       "\t<li>0.0338956224732101</li>\n",
       "\t<li>0.178785004187375</li>\n",
       "\t<li>0.641665365546942</li>\n",
       "\t<li>0.0228777434676886</li>\n",
       "\t<li>0.00832482660189271</li>\n",
       "</ol>\n"
      ],
      "text/latex": [
       "\\begin{enumerate*}\n",
       "\\item 0.0693609158042818\n",
       "\\item 0.817775198724121\n",
       "\\item 0.942621732363477\n",
       "\\item 0.269381876336411\n",
       "\\item 0.169348123250529\n",
       "\\item 0.0338956224732101\n",
       "\\item 0.178785004187375\n",
       "\\item 0.641665365546942\n",
       "\\item 0.0228777434676886\n",
       "\\item 0.00832482660189271\n",
       "\\end{enumerate*}\n"
      ],
      "text/markdown": [
       "1. 0.0693609158042818\n",
       "2. 0.817775198724121\n",
       "3. 0.942621732363477\n",
       "4. 0.269381876336411\n",
       "5. 0.169348123250529\n",
       "6. 0.0338956224732101\n",
       "7. 0.178785004187375\n",
       "8. 0.641665365546942\n",
       "9. 0.0228777434676886\n",
       "10. 0.00832482660189271\n",
       "\n",
       "\n"
      ],
      "text/plain": [
       " [1] 0.069360916 0.817775199 0.942621732 0.269381876 0.169348123 0.033895622\n",
       " [7] 0.178785004 0.641665366 0.022877743 0.008324827"
      ]
     },
     "metadata": {},
     "output_type": "display_data"
    },
    {
     "data": {
      "text/html": [
       "<ol class=list-inline>\n",
       "\t<li>-0.27229604424923</li>\n",
       "\t<li>-0.315348711467784</li>\n",
       "\t<li>-0.628255236517538</li>\n",
       "\t<li>-0.106463884872094</li>\n",
       "\t<li>0.428014802202354</li>\n",
       "\t<li>-0.777719582147445</li>\n",
       "\t<li>-1.29388229761362</li>\n",
       "\t<li>-0.779566508059429</li>\n",
       "\t<li>0.0119517585652984</li>\n",
       "\t<li>-0.152416237822168</li>\n",
       "</ol>\n"
      ],
      "text/latex": [
       "\\begin{enumerate*}\n",
       "\\item -0.27229604424923\n",
       "\\item -0.315348711467784\n",
       "\\item -0.628255236517538\n",
       "\\item -0.106463884872094\n",
       "\\item 0.428014802202354\n",
       "\\item -0.777719582147445\n",
       "\\item -1.29388229761362\n",
       "\\item -0.779566508059429\n",
       "\\item 0.0119517585652984\n",
       "\\item -0.152416237822168\n",
       "\\end{enumerate*}\n"
      ],
      "text/markdown": [
       "1. -0.27229604424923\n",
       "2. -0.315348711467784\n",
       "3. -0.628255236517538\n",
       "4. -0.106463884872094\n",
       "5. 0.428014802202354\n",
       "6. -0.777719582147445\n",
       "7. -1.29388229761362\n",
       "8. -0.779566508059429\n",
       "9. 0.0119517585652984\n",
       "10. -0.152416237822168\n",
       "\n",
       "\n"
      ],
      "text/plain": [
       " [1] -0.27229604 -0.31534871 -0.62825524 -0.10646388  0.42801480 -0.77771958\n",
       " [7] -1.29388230 -0.77956651  0.01195176 -0.15241624"
      ]
     },
     "metadata": {},
     "output_type": "display_data"
    },
    {
     "data": {
      "text/html": [
       "<ol class=list-inline>\n",
       "\t<li>-0.54686521181825</li>\n",
       "\t<li>0.325766227984669</li>\n",
       "\t<li>-0.310344756918247</li>\n",
       "\t<li>1.64011963529838</li>\n",
       "\t<li>-0.60065788608405</li>\n",
       "\t<li>-0.504397302337928</li>\n",
       "\t<li>0.146674867812759</li>\n",
       "\t<li>0.421606955584244</li>\n",
       "\t<li>-1.10969020069546</li>\n",
       "\t<li>0.674102188748512</li>\n",
       "</ol>\n"
      ],
      "text/latex": [
       "\\begin{enumerate*}\n",
       "\\item -0.54686521181825\n",
       "\\item 0.325766227984669\n",
       "\\item -0.310344756918247\n",
       "\\item 1.64011963529838\n",
       "\\item -0.60065788608405\n",
       "\\item -0.504397302337928\n",
       "\\item 0.146674867812759\n",
       "\\item 0.421606955584244\n",
       "\\item -1.10969020069546\n",
       "\\item 0.674102188748512\n",
       "\\end{enumerate*}\n"
      ],
      "text/markdown": [
       "1. -0.54686521181825\n",
       "2. 0.325766227984669\n",
       "3. -0.310344756918247\n",
       "4. 1.64011963529838\n",
       "5. -0.60065788608405\n",
       "6. -0.504397302337928\n",
       "7. 0.146674867812759\n",
       "8. 0.421606955584244\n",
       "9. -1.10969020069546\n",
       "10. 0.674102188748512\n",
       "\n",
       "\n"
      ],
      "text/plain": [
       " [1] -0.5468652  0.3257662 -0.3103448  1.6401196 -0.6006579 -0.5043973\n",
       " [7]  0.1466749  0.4216070 -1.1096902  0.6741022"
      ]
     },
     "metadata": {},
     "output_type": "display_data"
    }
   ],
   "source": [
    "# Various RNs in R\n",
    "# Listing 7.3\n",
    "# Last updated 2011\n",
    "#\n",
    "#\n",
    "\n",
    "set.seed(12) # set seed\n",
    "\n",
    "S=10\n",
    "runif(S)\n",
    "rnorm(S)\n",
    "rt(S,4)"
   ]
  },
  {
   "cell_type": "code",
   "execution_count": 43,
   "metadata": {
    "scrolled": false
   },
   "outputs": [
    {
     "name": "stdout",
     "output_type": "stream",
     "text": [
      "[1] 9.913206\n"
     ]
    }
   ],
   "source": [
    "# Price bond in R\n",
    "# Listing 7.5\n",
    "# Last updated August 2016\n",
    "#\n",
    "#\n",
    "\n",
    "yield=c(5.00, 5.69, 6.09, 6.38, 6.61,\n",
    "        6.79, 6.94, 7.07, 7.19, 7.30) # yield curve\n",
    "TT=length(yield)\n",
    "r=0.07                                # initial yield rate\n",
    "Par=10                                # par value\n",
    "coupon=r*Par                          # coupon payments\n",
    "cc=1:10*0+coupon                      # vector of cash flows\n",
    "cc[10]=cc[10]+Par                     # add par to cash flows\n",
    "P=sum(cc/((1+yield/100)^(1:TT)))      # calculate price\n",
    "\n",
    "print(P)"
   ]
  },
  {
   "cell_type": "code",
   "execution_count": 44,
   "metadata": {
    "scrolled": false
   },
   "outputs": [
    {
     "data": {
      "image/png": "[encoded data removed]",
      "text/plain": [
       "plot without title"
      ]
     },
     "metadata": {},
     "output_type": "display_data"
    }
   ],
   "source": [
    "# Simulate yields in R\n",
    "# Listing 7.7\n",
    "# Last updated August 2016\n",
    "#\n",
    "#\n",
    "\n",
    "set.seed(12)                         # set seed\n",
    "\n",
    "sigma = 1.5                          # daily yield volatiltiy\n",
    "S = 8                                # number of simulations\n",
    "r = rnorm(S,0,sigma)                 # generate random numbers \n",
    "ysim = matrix(nrow=TT,ncol=S)\n",
    "for (i in 1:S) ysim[,i]=yield+r[i]\n",
    "matplot(ysim,type='l')"
   ]
  },
  {
   "cell_type": "code",
   "execution_count": 45,
   "metadata": {
    "scrolled": false
   },
   "outputs": [
    {
     "data": {
      "image/png": "[encoded data removed]",
      "text/plain": [
       "Plot with title \"Histogram of SP\""
      ]
     },
     "metadata": {},
     "output_type": "display_data"
    }
   ],
   "source": [
    "# Simulate bond prices in R\n",
    "# Listing 7.9\n",
    "# Last updated August 2016\n",
    "#\n",
    "#\n",
    "\n",
    "SP = vector(length=S)\n",
    "for (i in 1:S){                            # S simulations\n",
    "  SP[i] = sum(cc/((1+ysim[,i]/100)^(TT)))\n",
    "}\n",
    "SP = SP-(mean(SP) - P)                     # correct for mean\n",
    "\n",
    "par(mfrow=c(1,2), pty=\"s\")\n",
    "\n",
    "barplot(SP)\n",
    "\n",
    "hist(SP,probability=TRUE)\n",
    "x=seq(6,16,length=100)\n",
    "lines(x, dnorm(x, mean = mean(SP), sd = sd(SP)))"
   ]
  },
  {
   "cell_type": "code",
   "execution_count": 46,
   "metadata": {
    "scrolled": false
   },
   "outputs": [
    {
     "name": "stdout",
     "output_type": "stream",
     "text": [
      "$Call\n",
      "[1] 11.08728\n",
      "\n",
      "$Put\n",
      "[1] 0.09967718\n",
      "\n",
      "$Delta.Call\n",
      "[1] 0.9660259\n",
      "\n",
      "$Delta.Put\n",
      "[1] -0.03397407\n",
      "\n",
      "$Gamma\n",
      "[1] 0.01066378\n",
      "\n"
     ]
    }
   ],
   "source": [
    "# Black-Scholes valuation in R\n",
    "# Listing 7.11\n",
    "# Last updated August 2016\n",
    "#\n",
    "#\n",
    "\n",
    "P0 = 50                          # initial spot price\n",
    "sigma = 0.2                      # annual volatility\n",
    "r = 0.05                         # annual interest\n",
    "TT = 0.5                         # time to expiration\n",
    "X = 40                           # strike price\n",
    "f = bs(X,P0,r,sigma,TT)          # analytical call price\n",
    "## this calculation uses the Black-Scholes pricing function (Listing 6.1/6.2)\n",
    "\n",
    "print(f)"
   ]
  },
  {
   "cell_type": "code",
   "execution_count": 47,
   "metadata": {
    "scrolled": false
   },
   "outputs": [
    {
     "name": "stdout",
     "output_type": "stream",
     "text": [
      "[1] 11.08709\n"
     ]
    }
   ],
   "source": [
    "# Black-Scholes simulation in R\n",
    "# Listing 7.13\n",
    "# Last updated August 2016\n",
    "#\n",
    "#\n",
    "\n",
    "set.seed(12)                      # set seed\n",
    "\n",
    "S = 1e6                           # number of simulations\n",
    "F = P0*exp(r*TT)                  # futures price\n",
    "ysim = rnorm(S,-0.5*sigma^2*TT,sigma*sqrt(TT)) # sim returns, lognorm corrected\n",
    "F=F*exp(ysim)                     # sim futures price\n",
    "SP = F-X                          # payoff\n",
    "SP[SP<0] = 0                      # set negative outcomes to zero\n",
    "fsim = SP*exp(-r*TT)              # discount\n",
    "call_sim = mean(fsim)             # simulated price\n",
    "\n",
    "print(call_sim)"
   ]
  },
  {
   "cell_type": "code",
   "execution_count": 48,
   "metadata": {
    "scrolled": false
   },
   "outputs": [
    {
     "data": {
      "image/png": "[encoded data removed]",
      "text/plain": [
       "Plot with title \"Histogram of fsim\""
      ]
     },
     "metadata": {},
     "output_type": "display_data"
    }
   ],
   "source": [
    "# Option density plots in R\n",
    "# Listing 7.15\n",
    "# Last updated 2011\n",
    "#\n",
    "#\n",
    "\n",
    "par(mfrow=c(1,2), pty=\"s\")\n",
    "\n",
    "hist(F,probability=TRUE,ylim=c(0,0.06))\n",
    "\n",
    "x=seq(min(F),max(F),length=100)\n",
    "lines(x, dnorm(x, mean = mean(F), sd = sd(SP)))\n",
    "hist(fsim,nclass=100,probability=TRUE)"
   ]
  },
  {
   "cell_type": "code",
   "execution_count": 49,
   "metadata": {
    "scrolled": false
   },
   "outputs": [
    {
     "name": "stdout",
     "output_type": "stream",
     "text": [
      "[1] 2.289809\n"
     ]
    }
   ],
   "source": [
    "# Simulate VaR in R\n",
    "# Listing 7.17\n",
    "# Last updated 2011\n",
    "#\n",
    "#\n",
    "\n",
    "set.seed(1)                 # set seed\n",
    "\n",
    "S = 1e7                     # number of simulations\n",
    "s2 = 0.01^2                 # daily variance\n",
    "p = 0.01                    # probability\n",
    "r = 0.05                    # annual riskfree rate\n",
    "P = 100                     # price today\n",
    "ysim = rnorm(S,r/365-0.5*s2,sqrt(s2)) # sim returns\n",
    "Psim = P*exp(ysim) # sim future prices\n",
    "q = sort(Psim-P) # simulated P/L\n",
    "VaR1 = -q[p*S]\n",
    "\n",
    "print(VaR1)"
   ]
  },
  {
   "cell_type": "code",
   "execution_count": 50,
   "metadata": {
    "scrolled": false
   },
   "outputs": [
    {
     "name": "stdout",
     "output_type": "stream",
     "text": [
      "[1] 1.214623\n"
     ]
    }
   ],
   "source": [
    "# Simulate option VaR in R\n",
    "# Listing 7.19\n",
    "# Last updated August 2016\n",
    "#\n",
    "#\n",
    "\n",
    "TT = 0.25;                             # time to expiration\n",
    "X = 100;                               # strike price\n",
    "sigma = sqrt(s2*250);                  # annual volatility\n",
    "f = bs(X,P,r,sigma,TT)                 # analytical call price\n",
    "fsim = bs(X,Psim,r,sigma,TT-(1/365))   # sim option prices \n",
    "q = sort(fsim$Call-f$Call)             # simulated P/L\n",
    "VaR2 = -q[p*S]\n",
    "\n",
    "print(VaR2)"
   ]
  },
  {
   "cell_type": "code",
   "execution_count": 51,
   "metadata": {
    "scrolled": false
   },
   "outputs": [
    {
     "name": "stdout",
     "output_type": "stream",
     "text": [
      "[1] 1.494695\n"
     ]
    }
   ],
   "source": [
    "# Example 7.3 in R\n",
    "# Listing 7.21\n",
    "# Last updated August 2016\n",
    "#\n",
    "#\n",
    "\n",
    "X1 = 100                                 \n",
    "X2 = 110                                 \n",
    "f1 = bs(X1,P,r,sigma,TT)                 \n",
    "f2 = bs(X2,P,r,sigma,TT)                 \n",
    "f2sim = bs(X2,Psim,r,sigma,TT-(1/365))\n",
    "f1sim = bs(X1,Psim,r,sigma,TT-(1/365))\n",
    "q = sort(f1sim$Call+f2sim$Put+Psim-f1$Call-f2$Put-P); \n",
    "VaR3 = -q[p*S]\n",
    "\n",
    "print(VaR3)"
   ]
  },
  {
   "cell_type": "code",
   "execution_count": 52,
   "metadata": {
    "scrolled": false
   },
   "outputs": [],
   "source": [
    "# Simulated two-asset returns in R\n",
    "# Listing 7.23\n",
    "# Last updated 2011\n",
    "#\n",
    "#\n",
    "\n",
    "library (MASS)\n",
    "\n",
    "set.seed(12)  # set seed\n",
    "\n",
    "mu = c(r/365,r/365)                               # return mean\n",
    "Sigma = matrix(c(0.01,0.0005,0.0005,0.02),ncol=2) # covariance matrix\n",
    "y = mvrnorm(S,mu,Sigma)  # simulated returns"
   ]
  },
  {
   "cell_type": "code",
   "execution_count": 53,
   "metadata": {
    "scrolled": false
   },
   "outputs": [
    {
     "name": "stdout",
     "output_type": "stream",
     "text": [
      "[1] 25.96307\n"
     ]
    }
   ],
   "source": [
    "# Two-asset VaR in R\n",
    "# Listing 7.25\n",
    "# Last updated 2011\n",
    "#\n",
    "#\n",
    "\n",
    "K=2\n",
    "P = c(100,50)                                 # prices\n",
    "x = c(1,1)                                    # number of assets\n",
    "Port = P %*% x                                # portfolio at t\n",
    "Psim = matrix(t(matrix(P,K,S)),ncol=K)*exp(y) # simulated prices\n",
    "PortSim = Psim %*% x                          # simulated portfolio value\n",
    "q = sort(PortSim-Port[1,1])                   # simulated P/L\n",
    "VaR4 = -q[S*p]\n",
    "\n",
    "print(VaR4)"
   ]
  },
  {
   "cell_type": "code",
   "execution_count": 54,
   "metadata": {
    "scrolled": false
   },
   "outputs": [
    {
     "name": "stdout",
     "output_type": "stream",
     "text": [
      "[1] 20.79232\n"
     ]
    }
   ],
   "source": [
    "# A two-asset case in R with an option\n",
    "# Listing 7.27\n",
    "# Last updated August 2016\n",
    "#\n",
    "#\n",
    "\n",
    "f = bs(P[2],P[2],r,sigma,TT)\n",
    "fsim = bs(P[2],Psim[,2],r,sigma,TT-(1/365))\n",
    "q = sort(fsim$Call+Psim[,1]-f$Call-P[1]); \n",
    "VaR5 = -q[p*S]\n",
    "\n",
    "print(VaR5)"
   ]
  },
  {
   "cell_type": "markdown",
   "metadata": {},
   "source": [
    "# Chapter 8: Backtesting and Stress Testing\n",
    "\n",
    "-  8.1: Loading hypothetical stock prices, converting to returns\n",
    "-  8.3: Setting up backtest \n",
    "-  8.5: Running backtest for EWMA/MA/HS/GARCH VaR\n",
    "-  8.7: Backtesting analysis for EWMA/MA/HS/GARCH VaR\n",
    "-  8.9: Bernoulli coverage test\n",
    "-  8.11: Independence test\n",
    "-  8.13: Running Bernoulli/Independence test on backtests\n",
    "-  8.15: Running backtest for EWMA/HS ES\n",
    "-  8.17: Backtesting analysis for EWMA/HS ES"
   ]
  },
  {
   "cell_type": "code",
   "execution_count": 55,
   "metadata": {
    "scrolled": false
   },
   "outputs": [],
   "source": [
    "# Load data in R\n",
    "# Listing 8.1\n",
    "# Last updated August 2016\n",
    "#\n",
    "#\n",
    "\n",
    "library(tseries)\n",
    "library(zoo)\n",
    "\n",
    "p = zoo(read.csv('index.csv',header=TRUE,sep=','))\n",
    "y=diff(log(p)) # get returns \n",
    "y=coredata(y)  # strip date information"
   ]
  },
  {
   "cell_type": "code",
   "execution_count": 56,
   "metadata": {
    "scrolled": true
   },
   "outputs": [],
   "source": [
    "# Set backtest up in R\n",
    "# Listing 8.3\n",
    "# Last updated August 2016\n",
    "#\n",
    "#\n",
    "\n",
    "TT = length(y)               # number of obs for y\n",
    "WE = 1000                    # estimation window length\n",
    "p = 0.01                     # probability\n",
    "l1 = WE*p                    # HS observation\n",
    "value = 1;                   # portfolio value\n",
    "VaR = matrix(nrow=TT,ncol=4) # matrix for forecasts\n",
    "## EWMA setup\n",
    "lambda = 0.94;       \n",
    "s11 = var(y[1:30]);\n",
    "for(t in 2:WE) s11=lambda*s11+(1-lambda)*y[t-1]^2\n",
    "\n",
    "library(fGarch)"
   ]
  },
  {
   "cell_type": "code",
   "execution_count": 57,
   "metadata": {
    "scrolled": false
   },
   "outputs": [],
   "source": [
    "# Running backtest in R\n",
    "# Listing 8.5\n",
    "# Last updated August 2016\n",
    "#\n",
    "#\n",
    "\n",
    "for (t in (WE+1):TT){\n",
    "  t1 = t-WE;         # start of the data window\n",
    "  t2 = t-1;\t         # end of the data window\n",
    "  window = y[t1:t2]  # data for estimation\n",
    "  \n",
    "  s11=lambda*s11+(1-lambda)*y[t-1]^2\n",
    "  VaR[t,1] = -qnorm(p) * sqrt(s11) * value          # EWMA\n",
    "  \n",
    "  VaR[t,2] = - sd(window) * qnorm(p)*value          # MA\n",
    "  \n",
    "  ys = sort(window)                              \n",
    "  VaR[t,3] = -ys[l1]*value                          # HS\n",
    "  \n",
    "  g=garchFit(formula=~garch(1,1),window,\n",
    "             trace=FALSE,include.mean=FALSE)\n",
    "  par=g@fit$matcoef\n",
    "  s4=par[1]+par[2]*window[WE]^2+par[3]*g@h.t[WE]\n",
    "  VaR[t,4] = -qnorm(p) * sqrt(s4) * value           # GARCH(1,1)\n",
    "}"
   ]
  },
  {
   "cell_type": "code",
   "execution_count": 58,
   "metadata": {
    "scrolled": false
   },
   "outputs": [
    {
     "name": "stdout",
     "output_type": "stream",
     "text": [
      "1 VR 2.074423 VaR vol 0.01211406 \n",
      "2 VR 1.860565 VaR vol 0.006622265 \n",
      "3 VR 1.240376 VaR vol 0.01229172 \n",
      "4 VR 1.668092 VaR vol 0.01175914 \n"
     ]
    },
    {
     "data": {
      "image/png": "[encoded data removed]",
      "text/plain": [
       "plot without title"
      ]
     },
     "metadata": {},
     "output_type": "display_data"
    }
   ],
   "source": [
    "# Backtesting analysis in R\n",
    "# Listing 8.7\n",
    "# Last updated June 2018\n",
    "#\n",
    "#\n",
    "\n",
    "W1=WE+1\n",
    "for (i in 1:4){\n",
    "  VR = sum(y[W1:TT]< -VaR[W1:TT,i])/(p*(TT-WE))\n",
    "  s = sd(VaR[W1:TT,i])\n",
    "  cat(i,\"VR\",VR,\"VaR vol\",s,\"\\n\")\n",
    "}\n",
    "matplot(cbind(y[W1:TT],VaR[W1:TT,]),type='l',col=1:5,las=1,ylab=\"\",lty=1:5)\n",
    "legend(\"topleft\",legend=c(\"Returns\",\"EWMA\",\"MA\",\"HS\",\"GARCH\"),lty=1:5,col=1:5,bty=\"n\")"
   ]
  },
  {
   "cell_type": "code",
   "execution_count": 59,
   "metadata": {
    "scrolled": false
   },
   "outputs": [],
   "source": [
    "# Bernoulli coverage test in R\n",
    "# Listing 8.9\n",
    "# Last updated August 2016\n",
    "#\n",
    "#\n",
    "\n",
    "bern_test=function(p,v){\n",
    "  lv=length(v)\n",
    "  sv=sum(v)\n",
    "  \n",
    "  al=log(p)*sv+log(1-p)*(lv-sv)\n",
    "  bl=log(sv/lv)*sv +log(1-sv/lv)*(lv-sv)\n",
    "  return(-2*(al-bl))\n",
    "}"
   ]
  },
  {
   "cell_type": "code",
   "execution_count": 60,
   "metadata": {
    "scrolled": false
   },
   "outputs": [],
   "source": [
    "# Independence test in R\n",
    "# Listing 8.11\n",
    "# Last updated June 2018\n",
    "#\n",
    "#\n",
    "\n",
    "ind_test=function(V){\n",
    "  J=matrix(ncol=4,nrow=length(V))\n",
    "  for (i in 2:length(V)){\n",
    "    J[i,1]=V[i-1]==0 & V[i]==0\n",
    "    J[i,2]=V[i-1]==0 & V[i]==1\n",
    "    J[i,3]=V[i-1]==1 & V[i]==0\n",
    "    J[i,4]=V[i-1]==1 & V[i]==1\n",
    "  }\n",
    "  V_00=sum(J[,1],na.rm=TRUE)\n",
    "  V_01=sum(J[,2],na.rm=TRUE)\n",
    "  V_10=sum(J[,3],na.rm=TRUE)\n",
    "  V_11=sum(J[,4],na.rm=TRUE)\n",
    "  p_00=V_00/(V_00+V_01)\n",
    "  p_01=V_01/(V_00+V_01)\n",
    "  p_10=V_10/(V_10+V_11)\n",
    "  p_11=V_11/(V_10+V_11)\n",
    "  hat_p=(V_01+V_11)/(V_00+V_01+V_10+V_11)\n",
    "  al = log(1-hat_p)*(V_00+V_10) + log(hat_p)*(V_01+V_11)\n",
    "  bl = log(p_00)*V_00 + log(p_01)*V_01 + log(p_10)*V_10 + log(p_11)*V_11\n",
    "  return(-2*(al-bl))\n",
    "}"
   ]
  },
  {
   "cell_type": "code",
   "execution_count": 61,
   "metadata": {
    "scrolled": false
   },
   "outputs": [
    {
     "name": "stdout",
     "output_type": "stream",
     "text": [
      "1 EWMA Bernoulli 41.6257 1.105309e-10 independence 0.4411056 0.5065893 \n",
      "2 MA Bernoulli 27.90392 1.27491e-07 independence 17.44182 2.962367e-05 \n",
      "3 HS Bernoulli 2.535439 0.1113159 independence 11.48482 0.0007016709 \n",
      "4 GARCH Bernoulli 17.55348 2.793385e-05 independence 0.33451 0.5630154 \n"
     ]
    }
   ],
   "source": [
    "# Backtesting S&P 500 in R\n",
    "# Listing 8.13\n",
    "# Last updated August 2016\n",
    "#\n",
    "#\n",
    "\n",
    "W1=WE+1\n",
    "ya=y[W1:TT]\n",
    "VaRa=VaR[W1:TT,]\n",
    "m=c(\"EWMA\",\"MA\",\"HS\",\"GARCH\")\n",
    "for (i in 1:4){\n",
    "  q= y[W1:TT]< -VaR[W1:TT,i]\n",
    "  v=VaRa*0\n",
    "  v[q,i]=1\n",
    "  ber=bern_test(p,v[,i])\n",
    "  ind=ind_test(v[,i])\n",
    "  cat(i,m[i],'Bernoulli',ber,1-pchisq(ber,1),\"independence\",ind,1-pchisq(ind,1),\"\\n\")\n",
    "}"
   ]
  },
  {
   "cell_type": "code",
   "execution_count": 62,
   "metadata": {
    "scrolled": false
   },
   "outputs": [],
   "source": [
    "# Backtest ES in R\n",
    "# Listing 8.15\n",
    "# Last updated August 2016\n",
    "#\n",
    "#\n",
    "\n",
    "VaR = matrix(nrow=TT,ncol=2) # VaR forecasts for 2 models\n",
    "ES = matrix(nrow=TT,ncol=2) # ES forecasts for 2 models\n",
    "for (t in (WE+1):TT){\n",
    "  t1 = t-WE;\n",
    "  t2 = t-1;\n",
    "  window = y[t1:t2]\n",
    "  \n",
    "  s11 = lambda * s11  + (1-lambda) * y[t-1]^2 \n",
    "  VaR[t,1] = -qnorm(p) * sqrt(s11) * value  # EWMA\n",
    "  ES[t,1] = sqrt(s11) * dnorm(qnorm(p)) / p\n",
    "  \n",
    "  ys = sort(window)\n",
    "  VaR[t,2] = -ys[l1]*value                  # HS\n",
    "  ES[t,2] = -mean(ys[1:l1]) * value\n",
    "}"
   ]
  },
  {
   "cell_type": "code",
   "execution_count": 63,
   "metadata": {
    "scrolled": false
   },
   "outputs": [
    {
     "name": "stdout",
     "output_type": "stream",
     "text": [
      "1 nES 1.223518 \n",
      "2 nES 1.053689 \n"
     ]
    }
   ],
   "source": [
    "# Backtest ES in R\n",
    "# Listing 8.17\n",
    "# Last updated August 2016\n",
    "#\n",
    "#\n",
    "\n",
    "ESa = ES[W1:TT,]\n",
    "VaRa = VaR[W1:TT,]\n",
    "for (i in 1:2){\n",
    "  q = ya <= -VaRa[,i]\n",
    "  nES = mean(ya[q] / -ESa[q,i])\n",
    "  cat(i,\"nES\",nES,\"\\n\")\n",
    "}"
   ]
  },
  {
   "cell_type": "markdown",
   "metadata": {},
   "source": [
    "# Chapter 9: Extreme Value Theory\n",
    "\n",
    "-  9.1: Calculation of tail index from returns"
   ]
  },
  {
   "cell_type": "code",
   "execution_count": 64,
   "metadata": {
    "scrolled": true
   },
   "outputs": [
    {
     "name": "stdout",
     "output_type": "stream",
     "text": [
      "[1] 2.62971\n"
     ]
    }
   ],
   "source": [
    "# Hill estimator in R\n",
    "# Listing 9.1\n",
    "# Last updated 2011\n",
    "#\n",
    "#\n",
    "\n",
    "ysort = sort(y)                             # sort the returns\n",
    "CT = 100                                    # set the threshold\n",
    "iota = 1/mean(log(ysort[1:CT]/ysort[CT+1])) # get the tail index\n",
    "\n",
    "print(iota)\n",
    "\n",
    "# END"
   ]
  }
 ],
 "metadata": {
  "kernelspec": {
   "display_name": "R",
   "language": "R",
   "name": "ir"
  },
  "language_info": {
   "codemirror_mode": "r",
   "file_extension": ".r",
   "mimetype": "text/x-r-source",
   "name": "R",
   "pygments_lexer": "r",
   "version": "3.4.3"
  }
 },
 "nbformat": 4,
 "nbformat_minor": 2
}
